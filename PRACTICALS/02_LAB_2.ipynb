{
  "nbformat": 4,
  "nbformat_minor": 0,
  "metadata": {
    "colab": {
      "provenance": [],
      "collapsed_sections": [
        "V7FHO8U_Z31m",
        "ajjOFSwzaOgR",
        "jJ6bOScTcF_L",
        "ERHuULDT9w8j",
        "WNyEcWgsd5Yb",
        "P4hmVG88qCIC",
        "2eN8JDdj9ABO",
        "SUOC_2dR-IDD",
        "qt3ia1V9-CkA",
        "rtfRLA3k-xxw",
        "Ho3a3mQN_POi",
        "qLtvlKMi_lYp",
        "c-KokOKqqQvJ",
        "afkHx_IcHskW",
        "TCXnx7tsIBvl",
        "XNnNs1EpIa6S",
        "Uivun3VLI6rJ",
        "MWJSPeKVJr0y",
        "8U_8LIemqXAU",
        "QbRK0N8OqZEN",
        "nhBY0IRCqa6d",
        "8ucAKgpvqgPx",
        "J5HZB8nWqhyK"
      ]
    },
    "kernelspec": {
      "name": "python3",
      "display_name": "Python 3"
    },
    "language_info": {
      "name": "python"
    }
  },
  "cells": [
    {
      "cell_type": "markdown",
      "source": [
        "# **📜 LAB 2**  - Hashing and secured ledger\n"
      ],
      "metadata": {
        "id": "ERHuULDT9w8j"
      }
    },
    {
      "cell_type": "markdown",
      "source": [
        "## Introduction to Hashing - hashlib"
      ],
      "metadata": {
        "id": "WNyEcWgsd5Yb"
      }
    },
    {
      "cell_type": "markdown",
      "source": [
        "Before jumping into using the hashlib library, let's first understand what hashing is.\n",
        "\n",
        "What is Hashing?\n",
        "\n",
        "Hashing is a process where you take input data (like a text or number) and convert it into a fixed-size string of characters.\n",
        "\n",
        "The output of hashing is called a hash or digest.\n",
        "\n",
        "Hashing is a one-way process, meaning once you get the hash, you cannot reverse it to get the original data back.\n",
        "\n",
        "Even a small change in the input data will produce a completely different hash.\n",
        "\n",
        "A common use of hashing in blockchain and security is to ensure data integrity—that is, ensuring that the data hasn't been tampered with.\n",
        "\n",
        "For example, if someone tries to change a patient's record in our hospital ledger, the hash will no longer match, and we will know that the data was altered.\n",
        "\n",
        "Why is Hashing Important?\n",
        "Data Integrity: It helps verify that the data has not been changed.\n",
        "Security: It makes data unreadable and irreversible, which is essential for keeping information safe."
      ],
      "metadata": {
        "id": "D_pfJRsAeFUx"
      }
    },
    {
      "cell_type": "markdown",
      "source": [
        "Step-by-Step Guide to Using the hashlib Library\n",
        "\n",
        "Python has a built-in library called hashlib that makes hashing easy. Let's first show the basics of how to use it."
      ],
      "metadata": {
        "id": "1m735EC3eOGu"
      }
    },
    {
      "cell_type": "markdown",
      "source": [
        "1. Import the hashlib Library\n",
        "To use hashing, we need to import the hashlib library. This is a built-in Python library, so you don't need to install anything."
      ],
      "metadata": {
        "id": "7fVnm7UxePxH"
      }
    },
    {
      "cell_type": "code",
      "source": [
        "import hashlib"
      ],
      "metadata": {
        "id": "7APsozW5eRCA"
      },
      "execution_count": null,
      "outputs": []
    },
    {
      "cell_type": "markdown",
      "source": [
        "2. Creating a Hash\n",
        "Now, let's create a simple hash. We'll start with the basic SHA-256 hash function, which is one of the most commonly used hash functions."
      ],
      "metadata": {
        "id": "njryq2uqeSZY"
      }
    },
    {
      "cell_type": "code",
      "source": [
        "# Input data\n",
        "data = \"Hello, blockchain!\"\n",
        "\n",
        "# Create a SHA-256 hash of the input data\n",
        "hashed_data = hashlib.sha256(data.encode()).hexdigest()\n",
        "\n",
        "# Print the hash\n",
        "print(f\"Original Data: {data}\")\n",
        "print(f\"Hashed Data: {hashed_data}\")\n"
      ],
      "metadata": {
        "colab": {
          "base_uri": "https://localhost:8080/"
        },
        "id": "nI4DyU0aeThR",
        "outputId": "4b738d9f-acb1-4dc6-bb6d-70c4f51171b0"
      },
      "execution_count": null,
      "outputs": [
        {
          "output_type": "stream",
          "name": "stdout",
          "text": [
            "Original Data: Hello, blockchain!\n",
            "Hashed Data: e485541186cd67682999c1ad80eac78fb803ec57885c26d5489efb01f15ae913\n"
          ]
        }
      ]
    },
    {
      "cell_type": "markdown",
      "source": [
        "Explanation:\n",
        "\n",
        "* hashlib.sha256() creates a SHA-256 hash object.\n",
        "\n",
        "* .encode() converts the string into bytes (which is required for hashing).\n",
        "\n",
        "* .hexdigest() converts the hash object into a readable hexadecimal string."
      ],
      "metadata": {
        "id": "ZTCeOrtxeWzi"
      }
    },
    {
      "cell_type": "markdown",
      "source": [
        "3. Example: Hashing Simple Strings\n",
        "Now, let's try it with different strings. Each string will generate a unique hash."
      ],
      "metadata": {
        "id": "PdsQ-034ecst"
      }
    },
    {
      "cell_type": "code",
      "source": [
        "# Example 1: Hashing \"apple\"\n",
        "hash1 = hashlib.sha256(\"apple\".encode()).hexdigest()\n",
        "print(f\"Hash for 'apple': {hash1}\")\n",
        "\n",
        "# Example 2: Hashing \"banana\"\n",
        "hash2 = hashlib.sha256(\"banana\".encode()).hexdigest()\n",
        "print(f\"Hash for 'banana': {hash2}\")\n"
      ],
      "metadata": {
        "colab": {
          "base_uri": "https://localhost:8080/"
        },
        "id": "j3EmtBbieeVO",
        "outputId": "7231ec1f-1982-4b5d-d447-7786a8bad395"
      },
      "execution_count": null,
      "outputs": [
        {
          "output_type": "stream",
          "name": "stdout",
          "text": [
            "Hash for 'apple': 3a7bd3e2360a3d29eea436fcfb7e44c735d117c42d1c1835420b6b9942dd4f1b\n",
            "Hash for 'banana': b493d48364afe44d11c0165cf470a4164d1e2609911ef998be868d46ade3de4e\n"
          ]
        }
      ]
    },
    {
      "cell_type": "markdown",
      "source": [
        "Expected Output:\n",
        "\n",
        "The hashes for \"apple\" and \"banana\" will be different, even though they are just small words. This shows that even tiny changes in input lead to completely different hashes."
      ],
      "metadata": {
        "id": "FYkLjkBeegAP"
      }
    },
    {
      "cell_type": "markdown",
      "source": [
        "4. Understanding the Output\n",
        "\n",
        "The hash output will look something like this (it's a long string of numbers and letters):\n",
        "\n",
        "Hash for 'apple': `5c6f6e5d2d0f4a978f86b93fd34a64f1efb87067b0cfd01ac3a98f9ec699da85`\n"
      ],
      "metadata": {
        "id": "Rd7hi0b3eh0v"
      }
    },
    {
      "cell_type": "markdown",
      "source": [
        "This is the \"digital fingerprint\" of the word \"apple\".\n",
        "\n",
        "Even if we change just one character in the input, the hash will be completely different:"
      ],
      "metadata": {
        "id": "wQTQ-Q3uepZj"
      }
    },
    {
      "cell_type": "code",
      "source": [
        "# Example: Changing 'apple' to 'applz'\n",
        "hash3 = hashlib.sha256(\"applz\".encode()).hexdigest()\n",
        "print(f\"Hash for 'applz': {hash3}\")\n"
      ],
      "metadata": {
        "colab": {
          "base_uri": "https://localhost:8080/"
        },
        "id": "-l97HkeZeql8",
        "outputId": "a19c238c-4292-4ad8-bea3-699eedd576bd"
      },
      "execution_count": null,
      "outputs": [
        {
          "output_type": "stream",
          "name": "stdout",
          "text": [
            "Hash for 'applz': 5af3dcd5b4a9c41fff050423eba31def641b469283f7e5b6431d0ba65d3f4f9a\n"
          ]
        }
      ]
    },
    {
      "cell_type": "markdown",
      "source": [
        "Output: The hash for 'applz' will be completely different from 'apple'."
      ],
      "metadata": {
        "id": "yO6iAlIqetHd"
      }
    },
    {
      "cell_type": "markdown",
      "source": [
        "5. Verifying Data Integrity\n",
        "\n",
        "Let's now apply this to our hospital ledger. By hashing the visit data (like treatment details), we can ensure the data has not been changed."
      ],
      "metadata": {
        "id": "nAadAW-pevae"
      }
    },
    {
      "cell_type": "code",
      "source": [
        "# A patient's visit details\n",
        "patient_name = \"John Doe\"\n",
        "treatment = \"X-ray\"\n",
        "cost = 200\n",
        "date_of_visit = \"2025-02-09\"\n",
        "\n",
        "# Combine all visit details into one string\n",
        "visit_data = patient_name + treatment + str(cost) + date_of_visit\n",
        "\n",
        "# Create a hash for this visit data\n",
        "visit_hash = hashlib.sha256(visit_data.encode()).hexdigest()\n",
        "\n",
        "# Print the visit hash\n",
        "print(f\"Visit Data: {visit_data}\")\n",
        "print(f\"Visit Hash: {visit_hash}\")\n"
      ],
      "metadata": {
        "colab": {
          "base_uri": "https://localhost:8080/"
        },
        "id": "e-op-PW0-fAq",
        "outputId": "0f464790-aacd-4b51-e3d4-b9d8f6dc62b2"
      },
      "execution_count": null,
      "outputs": [
        {
          "output_type": "stream",
          "name": "stdout",
          "text": [
            "Visit Data: John DoeX-ray2002025-02-09\n",
            "Visit Hash: 835364b0944dfcaec6d532f430c171785540e87834933f5efe84fa124c43d5e5\n"
          ]
        }
      ]
    },
    {
      "cell_type": "markdown",
      "source": [
        "Explanation:\n",
        "\n",
        "The visit_data combines all the relevant information into one string.\n",
        "\n",
        "We then hash the combined string to get a unique hash for this visit.\n",
        "\n",
        "If someone tries to change the cost or treatment, the hash will no longer match."
      ],
      "metadata": {
        "id": "ZG4ueo2nezwI"
      }
    },
    {
      "cell_type": "markdown",
      "source": [
        "Recap of Key Concepts\n",
        "\n",
        "Hashing: A one-way process that converts input data into a fixed-length string.\n",
        "Hash Function: A mathematical function (like SHA-256) that produces a unique hash for each unique input.\n",
        "\n",
        "hashlib Library: Python’s built-in library to create hash values using different hash functions like sha256, md5, etc."
      ],
      "metadata": {
        "id": "q2rUdARIe1sp"
      }
    },
    {
      "cell_type": "markdown",
      "source": [
        "------------------"
      ],
      "metadata": {
        "id": "CoFA4cvRouDY"
      }
    },
    {
      "cell_type": "markdown",
      "source": [
        "Can Hashes Be Decoded?\n",
        "\n",
        "No, hashes cannot be decoded. Here's why:\n",
        "\n",
        "One-Way Function: Hashing is a one-way function, meaning that once data is hashed, you cannot reverse the process to get the original data back. This is by design.\n",
        "\n",
        "Fixed-Length Output: A hash function takes an input (which could be of any length) and converts it into a fixed-length string. For example, the SHA-256 function always produces a 256-bit (64-character) output, regardless of the size of the input. This means that even if two different inputs have the same hash length, you cannot tell anything about the input from the hash itself.\n",
        "\n",
        "No Reversible Process: Unlike encryption, which has a method to decrypt the data and get the original information back, hashing does not have a decryption method. Once you generate a hash, the original data is lost, and it’s impossible to recover it.\n",
        "\n",
        "Can Hashes Be Cracked?\n",
        "While hashes cannot be decoded directly, they can sometimes be cracked or reversed through methods like:\n",
        "\n",
        "* Brute Force: Trying all possible inputs until the hash matches.\n",
        "\n",
        "* Rainbow Tables: Pre-computed tables of hash values for common inputs, like passwords. However, using a salt (random data added to the input before hashing) can make this much harder.\n",
        "\n",
        "* Dictionary Attacks: Trying words from a list of common words (like from a dictionary) to see if any hash matches.\n",
        "But even in these cases, the process is not decoding the hash. It’s just finding a match between the hash and a known input."
      ],
      "metadata": {
        "id": "-cFKaZzfoy1r"
      }
    },
    {
      "cell_type": "markdown",
      "source": [
        "Example to Clarify\n",
        "Let’s say we hash the word \"hello\":"
      ],
      "metadata": {
        "id": "pasyculno70Y"
      }
    },
    {
      "cell_type": "code",
      "source": [
        "import hashlib\n",
        "\n",
        "data = \"hello\"\n",
        "hashed_data = hashlib.sha256(data.encode()).hexdigest()\n",
        "\n",
        "print(f\"Original data: {data}\")\n",
        "print(f\"Hashed data: {hashed_data}\")\n"
      ],
      "metadata": {
        "colab": {
          "base_uri": "https://localhost:8080/"
        },
        "id": "Z-9cKB_Uo9Ww",
        "outputId": "febf3be9-5c80-4f50-b08e-26b1e96b0047"
      },
      "execution_count": null,
      "outputs": [
        {
          "output_type": "stream",
          "name": "stdout",
          "text": [
            "Original data: hello\n",
            "Hashed data: 2cf24dba5fb0a30e26e83b2ac5b9e29e1b161e5c1fa7425e73043362938b9824\n"
          ]
        }
      ]
    },
    {
      "cell_type": "markdown",
      "source": [
        "Now, even if we know the hash\n",
        "\n",
        "```\n",
        "(2cf24dba5fb0a30e26e83b2ac5b9e29e1b169f3e4c315f2da14907a4381e9a1b)\n",
        "```\n",
        "\n",
        " , there’s no way to reverse it to get the original input \"hello\" directly. The only way to figure out what input generated that hash is by trying every possible input (which is time-consuming and inefficient) or using a rainbow table (if the hash is simple).\n",
        "\n",
        "Why Is This Useful?\n",
        "\n",
        "This property of one-way functions is what makes hashing valuable in security contexts such as:\n",
        "\n",
        "* Password Storage: Websites store hashed passwords instead of plain text. If someone gains access to the database, they can't easily see the users' passwords.\n",
        "* Blockchain: In blockchain, hashing ensures that each block’s data cannot be tampered with. Any change in the data would completely change the hash, alerting the system to tampering.\n",
        "\n",
        "\n",
        "Summary:\n",
        "No, hashes cannot be decoded. They are one-way functions.\n",
        "The only way to \"break\" a hash is by guessing the original input, but this is very difficult (especially if the input is long or complicated).\n",
        "Hashing is used for data integrity and security, because the original data cannot be recovered from the hash."
      ],
      "metadata": {
        "id": "J-p5UeDfpCzU"
      }
    },
    {
      "cell_type": "markdown",
      "source": [
        "-----------------"
      ],
      "metadata": {
        "id": "N-kFkMrJovBZ"
      }
    },
    {
      "cell_type": "markdown",
      "source": [
        "## Secured and Optimized Performance Ledger"
      ],
      "metadata": {
        "id": "mS8b-xwjd2hK"
      }
    },
    {
      "cell_type": "markdown",
      "source": [
        "3.1 Securing the Ledger: Hashing for Data Integrity"
      ],
      "metadata": {
        "id": "XLDqQXW3fJGD"
      }
    },
    {
      "cell_type": "markdown",
      "source": [
        "One of the most important aspects of securing data is hashing. A hash is like a \"digital fingerprint\" for any data.\n",
        "\n",
        "Once we hash the data, it is nearly impossible to reverse the hash to get the original data. This ensures that our ledger’s records can’t be tampered with.\n",
        "\n",
        "We will use the SHA-256 hash function (a common cryptographic hash function) to secure our records. By hashing the entire record (patient’s name, treatment, cost, and date), we can make sure that no one can change the record without being detected.\n",
        "\n",
        "-------------------\n",
        "\n",
        "Step 1: Add Hashing to the Ledger\n",
        "First, we will import the hashlib library to generate the hash. Then, we will modify the function that adds visits to hash the data before storing it in the ledger."
      ],
      "metadata": {
        "id": "blYZNCg2fKTj"
      }
    },
    {
      "cell_type": "code",
      "source": [
        "import hashlib\n",
        "\n",
        "# Initialize an empty hospital ledger (a dictionary where keys are patient names)\n",
        "hospital_ledger_advanced = {}\n",
        "\n",
        "# Function to generate a hash for a visit record\n",
        "def generate_hash(patient_name, treatment, cost, date_of_visit):\n",
        "    # Combine all visit details into one string\n",
        "    visit_data = patient_name + treatment + str(cost) + date_of_visit\n",
        "    # Generate the SHA-256 hash of the visit data\n",
        "    visit_hash = hashlib.sha256(visit_data.encode()).hexdigest()\n",
        "    return visit_hash\n",
        "\n",
        "# Function to add or update patient visits\n",
        "def add_patient_visit_advanced():\n",
        "    # Get patient details from the user\n",
        "    patient_name = input(\"Enter the patient's name: \")\n",
        "    treatment = input(\"Enter the treatment received: \")\n",
        "    cost = float(input(\"Enter the cost of the treatment: $\"))\n",
        "    date_of_visit = input(\"Enter the date of visit (YYYY-MM-DD): \")\n",
        "\n",
        "    # Generate a hash for this visit record\n",
        "    visit_hash = generate_hash(patient_name, treatment, cost, date_of_visit)\n",
        "\n",
        "    # Create a dictionary for the visit with the hash\n",
        "    visit = {\n",
        "        \"patient_name\": patient_name,\n",
        "        \"treatment\": treatment,\n",
        "        \"cost\": cost,\n",
        "        \"date_of_visit\": date_of_visit,\n",
        "        \"visit_hash\": visit_hash  # Store the hash to verify data integrity\n",
        "    }\n",
        "\n",
        "    # Add the visit to the patient's list of visits\n",
        "    if patient_name not in hospital_ledger_advanced:\n",
        "        hospital_ledger_advanced[patient_name] = []\n",
        "\n",
        "    hospital_ledger_advanced[patient_name].append(visit)\n",
        "    print(f\"Visit added for {patient_name} on {date_of_visit} for treatment {treatment} costing ${cost}.\")\n",
        "    print(f\"Visit hash: {visit_hash}\")\n",
        "\n",
        "# Ask the user to add visits\n",
        "add_patient_visit_advanced()\n",
        "add_patient_visit_advanced()\n",
        "\n",
        "# Display the advanced hospital ledger\n",
        "print(\"\\nAdvanced Hospital Ledger:\")\n",
        "for patient, visits in hospital_ledger_advanced.items():\n",
        "    print(f\"\\nPatient: {patient}\")\n",
        "    for visit in visits:\n",
        "        print(f\"  Treatment: {visit['treatment']}, Cost: ${visit['cost']}, Date: {visit['date_of_visit']}, Hash: {visit['visit_hash']}\")\n"
      ],
      "metadata": {
        "id": "b5yTT2pzdPkO"
      },
      "execution_count": null,
      "outputs": []
    },
    {
      "cell_type": "markdown",
      "source": [
        "Explanation:\n",
        "\n",
        "The generate_hash function takes the patient’s name, treatment, cost, and date of visit, combines them into one string, and generates a SHA-256 hash.\n",
        "This hash is stored alongside the other visit details in the ledger.\n",
        "By storing the hash, we can later verify the integrity of each visit: if someone changes the visit data, the hash will no longer match, indicating that the data has been tampered with.\n",
        "\n",
        "\n",
        "Exercise:\n",
        "\n",
        "Add some visits and check the hash value.\n",
        "Try changing one of the visit details and see how the hash changes, proving that the data is different."
      ],
      "metadata": {
        "id": "zBWYD6vkfRu_"
      }
    },
    {
      "cell_type": "markdown",
      "source": [
        "------------------"
      ],
      "metadata": {
        "id": "ybwksK8qfZpz"
      }
    },
    {
      "cell_type": "markdown",
      "source": [
        "3.2 Optimizing Performance: Fast Ledger Access with a Dictionary\n",
        "In the previous sections, we stored visits using lists and dictionaries. While this is fine for small amounts of data, it can become slow if the ledger grows large. We can optimize our ledger to speed up access by using the hash table concept (which is already used by Python dictionaries).\n",
        "\n",
        "----------------------\n",
        "\n",
        "Step 1: Performance Optimization with Dictionary Access\n",
        "The key to fast performance lies in the way we store and access data. Dictionaries allow fast lookups. We will continue to use the dictionary to store patient records, but we will focus on optimizing how we add, remove, and look up visits.\n",
        "\n",
        "\n",
        "Let’s say we want to search for a patient's visits very quickly. Using a dictionary allows us to instantly access a patient's record with the patient’s name as the key. This avoids searching through all records, which can be slow."
      ],
      "metadata": {
        "id": "KuvrBMCofVEQ"
      }
    },
    {
      "cell_type": "code",
      "source": [
        "# Initialize an empty hospital ledger (a dictionary where keys are patient names)\n",
        "hospital_ledger_advanced = {}\n",
        "\n",
        "# Function to add or update patient visits (optimized)\n",
        "def add_patient_visit_advanced():\n",
        "    # Get patient details from the user\n",
        "    patient_name = input(\"Enter the patient's name: \")\n",
        "    treatment = input(\"Enter the treatment received: \")\n",
        "    cost = float(input(\"Enter the cost of the treatment: $\"))\n",
        "    date_of_visit = input(\"Enter the date of visit (YYYY-MM-DD): \")\n",
        "\n",
        "    # Check if the patient already exists\n",
        "    if patient_name in hospital_ledger_advanced:\n",
        "        print(f\"Updating visit record for {patient_name}.\")\n",
        "    else:\n",
        "        print(f\"Adding new visit record for {patient_name}.\")\n",
        "\n",
        "    # Generate a hash for this visit record\n",
        "    visit_hash = generate_hash(patient_name, treatment, cost, date_of_visit)\n",
        "\n",
        "    # Create a dictionary for the visit with the hash\n",
        "    visit = {\n",
        "        \"treatment\": treatment,\n",
        "        \"cost\": cost,\n",
        "        \"date_of_visit\": date_of_visit,\n",
        "        \"visit_hash\": visit_hash  # Store the hash to verify data integrity\n",
        "    }\n",
        "\n",
        "    # Add the visit to the patient's list of visits (using a dictionary)\n",
        "    if patient_name not in hospital_ledger_advanced:\n",
        "        hospital_ledger_advanced[patient_name] = []\n",
        "\n",
        "    hospital_ledger_advanced[patient_name].append(visit)\n",
        "    print(f\"Visit added for {patient_name} on {date_of_visit} for treatment {treatment} costing ${cost}.\")\n",
        "    print(f\"Visit hash: {visit_hash}\")\n",
        "\n",
        "# Ask the user to add visits\n",
        "add_patient_visit_advanced()\n",
        "add_patient_visit_advanced()\n",
        "\n",
        "# Searching for a patient’s visit quickly\n",
        "search_patient = input(\"\\nEnter patient name to search for: \")\n",
        "if search_patient in hospital_ledger_advanced:\n",
        "    print(f\"\\nVisit records for {search_patient}:\")\n",
        "    for visit in hospital_ledger_advanced[search_patient]:\n",
        "        print(f\"  Treatment: {visit['treatment']}, Cost: ${visit['cost']}, Date: {visit['date_of_visit']}, Hash: {visit['visit_hash']}\")\n",
        "else:\n",
        "    print(f\"Patient {search_patient} not found in the ledger.\")\n"
      ],
      "metadata": {
        "id": "7MZ-_GoFfTQv",
        "colab": {
          "base_uri": "https://localhost:8080/"
        },
        "outputId": "23036b98-e94c-4305-a1a8-72ab692edc21"
      },
      "execution_count": null,
      "outputs": [
        {
          "output_type": "stream",
          "name": "stdout",
          "text": [
            "Enter the patient's name: kumar\n",
            "Enter the treatment received: neuralink\n",
            "Enter the cost of the treatment: $20\n",
            "Enter the date of visit (YYYY-MM-DD): 5050-02-02\n",
            "Adding new visit record for kumar.\n",
            "Visit added for kumar on 5050-02-02 for treatment neuralink costing $20.0.\n",
            "Visit hash: 1e83e6eca0fbc4b35199ccfb1f2fad3fad3b5078465f682218acdc5283eea95d\n",
            "Enter the patient's name: kirti\n",
            "Enter the treatment received: murti pooja\n",
            "Enter the cost of the treatment: $0005\n",
            "Enter the date of visit (YYYY-MM-DD): 1203-20-08\n",
            "Adding new visit record for kirti.\n",
            "Visit added for kirti on 1203-20-08 for treatment murti pooja costing $5.0.\n",
            "Visit hash: 944e35c7b697ef56baf8bf95b02a955f1d24060bbc70826d14dd1186d2a0068f\n",
            "\n",
            "Enter patient name to search for: kumar\n",
            "\n",
            "Visit records for kumar:\n",
            "  Treatment: neuralink, Cost: $20.0, Date: 5050-02-02, Hash: 1e83e6eca0fbc4b35199ccfb1f2fad3fad3b5078465f682218acdc5283eea95d\n"
          ]
        }
      ]
    },
    {
      "cell_type": "markdown",
      "source": [
        "Explanation:\n",
        "\n",
        "We still use a dictionary to store the patient’s name as the key and their list of visits as the value.\n",
        "Searching for a patient is now instant because we are using the dictionary key (the patient’s name) to access the visits directly.\n",
        "\n",
        "This optimizes performance, especially as the ledger grows large.\n",
        "\n",
        "\n",
        "Exercise:\n",
        "\n",
        "* Add multiple visits for different patients.\n",
        "\n",
        "* Search for a patient’s visits by entering their name and see how fast the search is.\n",
        "\n",
        "* Try adding a new patient, then update an existing one, and observe the performance."
      ],
      "metadata": {
        "id": "ibYnzu0-fhDe"
      }
    },
    {
      "cell_type": "markdown",
      "source": [
        "-----------"
      ],
      "metadata": {
        "id": "w5PKPNbIfutN"
      }
    },
    {
      "cell_type": "markdown",
      "source": [
        "3.3 Summary\n",
        "\n",
        "In this section, we:\n",
        "\n",
        "Secured the ledger by adding a hash for each visit. This ensures that once a visit is recorded, it can’t be tampered with.\n",
        "\n",
        "Optimized the ledger’s performance by using a dictionary to store and quickly access patient visits, improving the speed of search and updates.\n",
        "\n",
        "By introducing hashing, we learned how to protect our data from unauthorized changes. Using dictionaries allowed us to efficiently store and search for patient records, making our ledger both secure and fast."
      ],
      "metadata": {
        "id": "MHXPy5uifwdG"
      }
    }
  ]
}