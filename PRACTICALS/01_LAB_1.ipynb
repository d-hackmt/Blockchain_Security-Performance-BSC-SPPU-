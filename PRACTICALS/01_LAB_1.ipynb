{
  "nbformat": 4,
  "nbformat_minor": 0,
  "metadata": {
    "colab": {
      "provenance": [],
      "collapsed_sections": [
        "V7FHO8U_Z31m",
        "ajjOFSwzaOgR",
        "jJ6bOScTcF_L",
        "ERHuULDT9w8j",
        "WNyEcWgsd5Yb",
        "P4hmVG88qCIC",
        "2eN8JDdj9ABO",
        "SUOC_2dR-IDD",
        "qt3ia1V9-CkA",
        "rtfRLA3k-xxw",
        "Ho3a3mQN_POi",
        "qLtvlKMi_lYp",
        "c-KokOKqqQvJ",
        "afkHx_IcHskW",
        "TCXnx7tsIBvl",
        "XNnNs1EpIa6S",
        "Uivun3VLI6rJ",
        "MWJSPeKVJr0y",
        "8U_8LIemqXAU",
        "QbRK0N8OqZEN",
        "nhBY0IRCqa6d",
        "8ucAKgpvqgPx",
        "J5HZB8nWqhyK"
      ]
    },
    "kernelspec": {
      "name": "python3",
      "display_name": "Python 3"
    },
    "language_info": {
      "name": "python"
    }
  },
  "cells": [
    {
      "cell_type": "markdown",
      "source": [
        "# **📜 Lab 1**: Introduction to Python for Blockchain"
      ],
      "metadata": {
        "id": "V7FHO8U_Z31m"
      }
    },
    {
      "cell_type": "markdown",
      "source": [
        "Objective:\n",
        "\n",
        "In this lab, we will introduce Python programming concepts that are foundational for blockchain development. We will cover the basics of Python, including data types, loops, and functions. These concepts are crucial for building simple programs like a ledger and for understanding how blockchain works."
      ],
      "metadata": {
        "id": "PsL4yrZ5aLlW"
      }
    },
    {
      "cell_type": "markdown",
      "source": [
        "## Section 1: Python Basics for Blockchain"
      ],
      "metadata": {
        "id": "ajjOFSwzaOgR"
      }
    },
    {
      "cell_type": "markdown",
      "source": [
        "1.1 Python Data Types\n",
        "\n",
        "Python has several built-in data types. Understanding these is essential as they will help you store and manipulate data for blockchain programs.\n"
      ],
      "metadata": {
        "id": "C2vKQe56aRWR"
      }
    },
    {
      "cell_type": "markdown",
      "source": [
        "Integers: Whole numbers (positive, negative, or zero)."
      ],
      "metadata": {
        "id": "Z9L5TqibaGwE"
      }
    },
    {
      "cell_type": "code",
      "execution_count": null,
      "metadata": {
        "colab": {
          "base_uri": "https://localhost:8080/"
        },
        "id": "Is8MNh8iVTxi",
        "outputId": "68a8824c-188c-46f0-8ed6-a3cf62109798"
      },
      "outputs": [
        {
          "output_type": "stream",
          "name": "stdout",
          "text": [
            "10\n",
            "<class 'int'>\n"
          ]
        }
      ],
      "source": [
        "x = 10\n",
        "print(x)\n",
        "print(type(x))  # Output: <class 'int'>"
      ]
    },
    {
      "cell_type": "markdown",
      "source": [
        "Floats: Decimal numbers"
      ],
      "metadata": {
        "id": "cUwSjtoxacWP"
      }
    },
    {
      "cell_type": "code",
      "source": [
        "y = 3.14\n",
        "print(y)\n",
        "print(type(y))  # Output: <class 'float'>"
      ],
      "metadata": {
        "colab": {
          "base_uri": "https://localhost:8080/"
        },
        "id": "EkGx5kFPacrn",
        "outputId": "f9261975-eb88-42d3-8d89-ac8290cf2589"
      },
      "execution_count": null,
      "outputs": [
        {
          "output_type": "stream",
          "name": "stdout",
          "text": [
            "<class 'float'>\n"
          ]
        }
      ]
    },
    {
      "cell_type": "markdown",
      "source": [
        "Strings: Text or characters"
      ],
      "metadata": {
        "id": "jQkzV9Cfajri"
      }
    },
    {
      "cell_type": "code",
      "source": [
        "name = \"Alice\"\n",
        "print(name)\n",
        "print(type(name))  # Output: <class 'str'>"
      ],
      "metadata": {
        "colab": {
          "base_uri": "https://localhost:8080/"
        },
        "id": "nFK6JKBvakQy",
        "outputId": "468f25fc-ee68-4eda-998e-4a52a1199449"
      },
      "execution_count": null,
      "outputs": [
        {
          "output_type": "stream",
          "name": "stdout",
          "text": [
            "Alice\n",
            "<class 'str'>\n"
          ]
        }
      ]
    },
    {
      "cell_type": "markdown",
      "source": [
        "Lists: Ordered collection of items."
      ],
      "metadata": {
        "id": "kwiz-MnBarXP"
      }
    },
    {
      "cell_type": "code",
      "source": [
        "transactions = [100, 200, 150]\n",
        "print(transactions)\n",
        "print(type(transactions))  # Output: <class 'list'>"
      ],
      "metadata": {
        "colab": {
          "base_uri": "https://localhost:8080/"
        },
        "id": "hOyE_8OsarrW",
        "outputId": "331a8b12-a4fe-4905-cf0a-86bcb3b20e7e"
      },
      "execution_count": null,
      "outputs": [
        {
          "output_type": "stream",
          "name": "stdout",
          "text": [
            "[100, 200, 150]\n",
            "<class 'list'>\n"
          ]
        }
      ]
    },
    {
      "cell_type": "markdown",
      "source": [
        "Booleans: True or False values."
      ],
      "metadata": {
        "id": "IcCsQO_CaxGB"
      }
    },
    {
      "cell_type": "code",
      "source": [
        "is_valid = True\n",
        "print(is_valid)\n",
        "print(type(is_valid))  # Output: <class 'bool'>\n"
      ],
      "metadata": {
        "colab": {
          "base_uri": "https://localhost:8080/"
        },
        "id": "5mzNBd1VayXx",
        "outputId": "374d78d7-726a-4a79-b6f0-b5cd9a85139c"
      },
      "execution_count": null,
      "outputs": [
        {
          "output_type": "stream",
          "name": "stdout",
          "text": [
            "True\n",
            "<class 'bool'>\n"
          ]
        }
      ]
    },
    {
      "cell_type": "markdown",
      "source": [
        "Exercise:\n",
        "\n",
        "Create variables of each type (integer, float, string, list, boolean) and print their types.\n",
        "\n",
        "Mini Quiz:\n",
        "\n",
        "What is the result of type(3.14)?\n",
        "If x = \"Blockchain\", what is type(x)?"
      ],
      "metadata": {
        "id": "RPjSrC42a1ob"
      }
    },
    {
      "cell_type": "markdown",
      "source": [
        "ALL in one"
      ],
      "metadata": {
        "id": "clvHawMEa6w-"
      }
    },
    {
      "cell_type": "markdown",
      "source": [
        "📌 Common Data Types:\n",
        "\n",
        "Integers (int) → Whole numbers like 5, -20, 100\n",
        "\n",
        "Floating-point (float) → Decimal numbers like 3.14, 0.99, -5.5\n",
        "\n",
        "Strings (str) → Text like \"Bitcoin\", \"Ethereum\"\n",
        "\n",
        "Lists (list) → A collection of items like [1, 2, 3, 4]\n",
        "\n",
        "Dictionaries (dict) → Key-value pairs like {\"name\": \"Alice\", \"balance\": 100}\n",
        "\n",
        "🔹 Example Code: Creating Blockchain-Related Variables"
      ],
      "metadata": {
        "id": "GSF0T7bGbAzJ"
      }
    },
    {
      "cell_type": "code",
      "source": [
        "# Numeric Data Types\n",
        "block_number = 123456   # Integer\n",
        "transaction_fee = 0.0005  # Float\n",
        "\n",
        "# Text Data Type\n",
        "wallet_address = \"0xABC123XYZ\"  # String\n",
        "\n",
        "# List: Stores multiple transactions\n",
        "transactions = [10, 50, 200, 5]\n",
        "\n",
        "# Dictionary: Represents a transaction\n",
        "transaction1 = {\n",
        "    \"sender\": \"Alice\",\n",
        "    \"receiver\": \"Bob\",\n",
        "    \"amount\": 50\n",
        "}\n",
        "\n",
        "print(\"Block Number:\", block_number)\n",
        "print(\"Transaction Fee:\", transaction_fee)\n",
        "print(\"Wallet Address:\", wallet_address)\n",
        "print(\"Transaction List:\", transactions)\n",
        "print(\"Transaction Details:\", transaction1)\n"
      ],
      "metadata": {
        "colab": {
          "base_uri": "https://localhost:8080/"
        },
        "id": "4WaHYgRKa7cu",
        "outputId": "2ebe20fb-f62a-451f-cd8d-0861add72442"
      },
      "execution_count": null,
      "outputs": [
        {
          "output_type": "stream",
          "name": "stdout",
          "text": [
            "Block Number: 123456\n",
            "Transaction Fee: 0.0005\n",
            "Wallet Address: 0xABC123XYZ\n",
            "Transaction List: [10, 50, 200, 5]\n",
            "Transaction Details: {'sender': 'Alice', 'receiver': 'Bob', 'amount': 50}\n"
          ]
        }
      ]
    },
    {
      "cell_type": "markdown",
      "source": [
        "-----------------"
      ],
      "metadata": {
        "id": "1MreA-WNb4HU"
      }
    },
    {
      "cell_type": "markdown",
      "source": [
        "1.2 Loops\n",
        "\n",
        "Loops allow you to repeat a block of code multiple times. In blockchain, loops can be used to iterate through transactions or blocks in a chain.\n",
        "\n"
      ],
      "metadata": {
        "id": "qIe0nZJcbFMr"
      }
    },
    {
      "cell_type": "markdown",
      "source": [
        "For Loop: Used to iterate over a sequence (like a list).\n",
        "\n",
        "for Loop (Iterate over transactions)"
      ],
      "metadata": {
        "id": "eypruA5JbJ0d"
      }
    },
    {
      "cell_type": "code",
      "source": [
        "transactions = [10, 20, 50, 100]\n",
        "\n",
        "for amount in transactions:\n",
        "    print(\"Processing transaction of:\", amount)\n"
      ],
      "metadata": {
        "colab": {
          "base_uri": "https://localhost:8080/"
        },
        "id": "eruyhcz1bSWL",
        "outputId": "03f04b1a-560c-497e-c6f7-2b51571bc9ae"
      },
      "execution_count": null,
      "outputs": [
        {
          "output_type": "stream",
          "name": "stdout",
          "text": [
            "Processing transaction of: 10\n",
            "Processing transaction of: 20\n",
            "Processing transaction of: 50\n",
            "Processing transaction of: 100\n"
          ]
        }
      ]
    },
    {
      "cell_type": "markdown",
      "source": [
        " range() (Process a fixed number of blocks)"
      ],
      "metadata": {
        "id": "3f4nIQahbcov"
      }
    },
    {
      "cell_type": "code",
      "source": [
        "for block in range(1, 6):  # Simulating 5 blocks\n",
        "    print(\"Mining Block:\", block)\n"
      ],
      "metadata": {
        "colab": {
          "base_uri": "https://localhost:8080/"
        },
        "id": "osHRBsazbd4_",
        "outputId": "b2110671-ab0c-4226-e67d-ee7fae3317a0"
      },
      "execution_count": null,
      "outputs": [
        {
          "output_type": "stream",
          "name": "stdout",
          "text": [
            "Mining Block: 1\n",
            "Mining Block: 2\n",
            "Mining Block: 3\n",
            "Mining Block: 4\n",
            "Mining Block: 5\n"
          ]
        }
      ]
    },
    {
      "cell_type": "markdown",
      "source": [
        "While Loop: Repeats a block of code as long as a condition is true."
      ],
      "metadata": {
        "id": "B492a5WVbJOp"
      }
    },
    {
      "cell_type": "code",
      "source": [
        "count = 0\n",
        "while count < 3:\n",
        "    print(\"Blockchain task\")\n",
        "    count += 1\n"
      ],
      "metadata": {
        "colab": {
          "base_uri": "https://localhost:8080/"
        },
        "id": "samIs-9xbJeV",
        "outputId": "06fd90a6-ee32-488f-aa27-352ea0f29dc0"
      },
      "execution_count": null,
      "outputs": [
        {
          "output_type": "stream",
          "name": "stdout",
          "text": [
            "Blockchain task\n",
            "Blockchain task\n",
            "Blockchain task\n"
          ]
        }
      ]
    },
    {
      "cell_type": "markdown",
      "source": [
        " ANother example : while Loop (Run until a condition is met)"
      ],
      "metadata": {
        "id": "hNMF1z-Nbgex"
      }
    },
    {
      "cell_type": "code",
      "source": [
        "balance = 100\n",
        "while balance > 0:\n",
        "    print(\"Processing payment... Remaining balance:\", balance)\n",
        "    balance -= 20  # Deduct transaction fee\n"
      ],
      "metadata": {
        "colab": {
          "base_uri": "https://localhost:8080/"
        },
        "id": "kqtyrqRDbhvJ",
        "outputId": "3c658420-f491-4114-f2c1-96789d84de2d"
      },
      "execution_count": null,
      "outputs": [
        {
          "output_type": "stream",
          "name": "stdout",
          "text": [
            "Processing payment... Remaining balance: 100\n",
            "Processing payment... Remaining balance: 80\n",
            "Processing payment... Remaining balance: 60\n",
            "Processing payment... Remaining balance: 40\n",
            "Processing payment... Remaining balance: 20\n"
          ]
        }
      ]
    },
    {
      "cell_type": "markdown",
      "source": [
        "Exercise:\n",
        "Write a for loop to print numbers from 1 to 5, and a while loop to print the numbers from 10 down to 1.\n",
        "\n",
        "Mini Quiz:\n",
        "\n",
        "How would you change the for loop to sum the transaction amounts instead of printing them?\n",
        "What happens if you forget to update the counter variable in a while loop?"
      ],
      "metadata": {
        "id": "dV5qFJQFbPEg"
      }
    },
    {
      "cell_type": "markdown",
      "source": [
        "------------------"
      ],
      "metadata": {
        "id": "SkV5oGIYb13L"
      }
    },
    {
      "cell_type": "markdown",
      "source": [
        "1.3 Functions\n",
        "\n",
        "Functions are a way to bundle reusable pieces of code. In blockchain development, functions are often used to perform specific tasks like verifying transactions or calculating hashes."
      ],
      "metadata": {
        "id": "SjUZ1DpFbqpe"
      }
    },
    {
      "cell_type": "markdown",
      "source": [
        "Defining Functions:"
      ],
      "metadata": {
        "id": "AT_sYegFbsre"
      }
    },
    {
      "cell_type": "code",
      "source": [
        "def greet(name):\n",
        "    print(f\"Hello, {name}!\")\n",
        "\n",
        "greet(\"Alice\")  # Output: Hello, Alice!\n"
      ],
      "metadata": {
        "colab": {
          "base_uri": "https://localhost:8080/"
        },
        "id": "BTf3m13qbsRm",
        "outputId": "dc9e6943-bab2-4cea-a3f8-c37f8f02a446"
      },
      "execution_count": null,
      "outputs": [
        {
          "output_type": "stream",
          "name": "stdout",
          "text": [
            "Hello, Alice!\n"
          ]
        }
      ]
    },
    {
      "cell_type": "markdown",
      "source": [
        "Returning Values:"
      ],
      "metadata": {
        "id": "sJKDw5p6bvEQ"
      }
    },
    {
      "cell_type": "code",
      "source": [
        "def add(a, b):\n",
        "    return a + b\n",
        "\n",
        "result = add(3, 4)\n",
        "print(result)  # Output: 7\n"
      ],
      "metadata": {
        "colab": {
          "base_uri": "https://localhost:8080/"
        },
        "id": "cTIP6YwzbPUY",
        "outputId": "5fe3d8dc-6b19-4e8d-efa1-9455e08b1cd2"
      },
      "execution_count": null,
      "outputs": [
        {
          "output_type": "stream",
          "name": "stdout",
          "text": [
            "7\n"
          ]
        }
      ]
    },
    {
      "cell_type": "markdown",
      "source": [
        "Exercise:\n",
        "Create a function that takes two numbers as input and returns their product. Then, use the function to multiply 5 and 3.\n",
        "\n",
        "Mini Quiz:\n",
        "\n",
        "What will happen if a function is called without providing required arguments?\n",
        "How can you modify the greet function to accept both first and last name as arguments?"
      ],
      "metadata": {
        "id": "vRseByYwbxOI"
      }
    },
    {
      "cell_type": "markdown",
      "source": [
        "------------"
      ],
      "metadata": {
        "id": "dVQpZT-4bzWS"
      }
    },
    {
      "cell_type": "markdown",
      "source": [
        "1.4 Fun Interactive Game: Guess the Transaction Amount\n",
        "\n",
        "To make the learning fun, let’s play a quick game. The program will randomly choose a transaction amount from a list of numbers, and you will have to guess the amount."
      ],
      "metadata": {
        "id": "dVAJBtw7b0jK"
      }
    },
    {
      "cell_type": "code",
      "source": [
        "import random\n",
        "\n",
        "# List of transaction amounts\n",
        "transactions = [100, 200, 300, 400, 500]\n",
        "\n",
        "# Randomly pick a transaction\n",
        "chosen_transaction = random.choice(transactions)\n",
        "\n",
        "# Function to guess the amount\n",
        "def guess_transaction():\n",
        "    guess = int(input(\"Guess the transaction amount: \"))\n",
        "    if guess == chosen_transaction:\n",
        "        print(\"Correct! You've guessed the right transaction.\")\n",
        "    else:\n",
        "        print(f\"Wrong! The correct transaction was {chosen_transaction}.\")\n",
        "\n",
        "guess_transaction()\n"
      ],
      "metadata": {
        "colab": {
          "base_uri": "https://localhost:8080/"
        },
        "id": "Kn-A6vEkbxjZ",
        "outputId": "1628e2d0-dfd1-41f0-c8be-6fd70c79d326"
      },
      "execution_count": null,
      "outputs": [
        {
          "output_type": "stream",
          "name": "stdout",
          "text": [
            "Guess the transaction amount: 200\n",
            "Wrong! The correct transaction was 300.\n"
          ]
        }
      ]
    },
    {
      "cell_type": "markdown",
      "source": [
        "-------------"
      ],
      "metadata": {
        "id": "k73mequTb_8A"
      }
    },
    {
      "cell_type": "markdown",
      "source": [
        "1.5 Putting It All Together: Simulate a Simple Ledger\n",
        "\n",
        "\n",
        "Now that you’ve learned the basic building blocks, let’s combine them to create a very basic ledger system. The ledger will store a list of transactions and allow adding new transactions."
      ],
      "metadata": {
        "id": "ag57mUU5cBCI"
      }
    },
    {
      "cell_type": "code",
      "source": [
        "# Simple ledger to track transactions\n",
        "ledger = []\n",
        "\n",
        "# Function to add transaction to the ledger\n",
        "def add_transaction(transaction):\n",
        "    ledger.append(transaction)\n",
        "    print(f\"Transaction of {transaction} added to the ledger.\")\n",
        "\n",
        "# Add transactions\n",
        "add_transaction(100)\n",
        "add_transaction(200)\n",
        "\n",
        "# Display the ledger\n",
        "print(\"Current Ledger:\", ledger)"
      ],
      "metadata": {
        "colab": {
          "base_uri": "https://localhost:8080/"
        },
        "id": "KGmVib3RcAoY",
        "outputId": "15dfa1b3-789c-4b7f-9f77-b1337c2d9720"
      },
      "execution_count": null,
      "outputs": [
        {
          "output_type": "stream",
          "name": "stdout",
          "text": [
            "Transaction of 100 added to the ledger.\n",
            "Transaction of 200 added to the ledger.\n",
            "Current Ledger: [100, 200]\n"
          ]
        }
      ]
    },
    {
      "cell_type": "markdown",
      "source": [
        "## Section 2: Simple Ledger\n",
        "Hospital Use Case & Advanced Ledger"
      ],
      "metadata": {
        "id": "jJ6bOScTcF_L"
      }
    },
    {
      "cell_type": "markdown",
      "source": [
        "In this section, we will build a simple ledger for a hospital to track patient visits and the treatments they receive. We will start with a simple ledger, and then enhance it for more advanced functionality, keeping things beginner-friendly and engaging."
      ],
      "metadata": {
        "id": "7GvpP5OqcH4V"
      }
    },
    {
      "cell_type": "markdown",
      "source": [
        "------"
      ],
      "metadata": {
        "id": "aHchPglGcUeC"
      }
    },
    {
      "cell_type": "markdown",
      "source": [
        "2.1 Simple Hospital Ledger\n",
        "\n",
        "\n",
        "Let’s imagine a hospital where each patient visit is recorded along with their name, the treatment they received, and the cost of the treatment. The simple ledger will be a list that holds all these records."
      ],
      "metadata": {
        "id": "nLEPjhMecW3L"
      }
    },
    {
      "cell_type": "markdown",
      "source": [
        "Step 1: Define the Data Structure\n",
        "We will represent each patient’s visit as a dictionary, with the following fields:\n",
        "\n",
        "\n",
        "1. Patient Name\n",
        "\n",
        "2. Treatment\n",
        "\n",
        "3. Cost\n",
        "\n",
        "Each visit will be stored as a dictionary in the ledger (which is a list). Here's the code to define the ledger and add entries"
      ],
      "metadata": {
        "id": "q_hqz1JLcZmc"
      }
    },
    {
      "cell_type": "code",
      "source": [
        "# Initialize an empty ledger list\n",
        "hospital_ledger = []\n",
        "\n",
        "# Function to add a patient's visit to the ledger\n",
        "def add_patient_visit(patient_name, treatment, cost):\n",
        "    # Create a dictionary for the visit\n",
        "    visit = {\n",
        "        \"patient_name\": patient_name,\n",
        "        \"treatment\": treatment,\n",
        "        \"cost\": cost\n",
        "    }\n",
        "    # Add the visit to the hospital ledger\n",
        "    hospital_ledger.append(visit)\n",
        "    print(f\"Visit added for {patient_name} with treatment {treatment} costing {cost}.\")\n",
        "\n",
        "# Example: Adding a few patient visits\n",
        "add_patient_visit(\"John Doe\", \"Check-up\", 150)\n",
        "add_patient_visit(\"Jane Smith\", \"X-ray\", 250)\n",
        "\n",
        "# Display the hospital ledger\n",
        "print(\"Hospital Ledger:\")\n",
        "for visit in hospital_ledger:\n",
        "    print(f\"Patient: {visit['patient_name']}, Treatment: {visit['treatment']}, Cost: {visit['cost']}\")\n"
      ],
      "metadata": {
        "colab": {
          "base_uri": "https://localhost:8080/"
        },
        "id": "NygrE83ncHF7",
        "outputId": "14443fcc-161c-4f7e-d0a1-248164a11733"
      },
      "execution_count": null,
      "outputs": [
        {
          "output_type": "stream",
          "name": "stdout",
          "text": [
            "Visit added for John Doe with treatment Check-up costing 150.\n",
            "Visit added for Jane Smith with treatment X-ray costing 250.\n",
            "Hospital Ledger:\n",
            "Patient: John Doe, Treatment: Check-up, Cost: 150\n",
            "Patient: Jane Smith, Treatment: X-ray, Cost: 250\n"
          ]
        }
      ]
    },
    {
      "cell_type": "markdown",
      "source": [
        "Explanation:\n",
        "\n",
        "We create an empty list hospital_ledger to store all the records.\n",
        "The function add_patient_visit takes the patient's name, treatment, and cost as inputs and adds a dictionary representing the visit to the hospital_ledger.\n",
        "We add a couple of visits for John Doe and Jane Smith.\n",
        "\n",
        "\n",
        "Exercise:\n",
        "\n",
        "Add a few more patient visits to the ledger with different treatments and costs.\n",
        "Print the ledger after each addition to see the updates.\n"
      ],
      "metadata": {
        "id": "xuF3dkEtcgEA"
      }
    },
    {
      "cell_type": "markdown",
      "source": [
        "USING INPUT"
      ],
      "metadata": {
        "id": "HV94pSRKdbFt"
      }
    },
    {
      "cell_type": "code",
      "source": [
        "# Initialize an empty hospital ledger (list of visits)\n",
        "hospital_ledger = []\n",
        "\n",
        "# Function to add a patient's visit to the ledger\n",
        "def add_patient_visit():\n",
        "    # Get patient details from the user\n",
        "    patient_name = input(\"Enter the patient's name: \")\n",
        "    treatment = input(\"Enter the treatment received: \")\n",
        "    cost = float(input(\"Enter the cost of the treatment: $\"))\n",
        "\n",
        "    # Create a dictionary for the visit\n",
        "    visit = {\n",
        "        \"patient_name\": patient_name,\n",
        "        \"treatment\": treatment,\n",
        "        \"cost\": cost\n",
        "    }\n",
        "\n",
        "    # Add the visit to the hospital ledger\n",
        "    hospital_ledger.append(visit)\n",
        "    print(f\"Visit added for {patient_name} with treatment {treatment} costing ${cost}.\")\n",
        "\n",
        "# Ask the user to add visits\n",
        "add_patient_visit()\n",
        "add_patient_visit()\n",
        "\n",
        "# Display the hospital ledger\n",
        "print(\"\\nHospital Ledger:\")\n",
        "for visit in hospital_ledger:\n",
        "    print(f\"Patient: {visit['patient_name']}, Treatment: {visit['treatment']}, Cost: ${visit['cost']}\")\n"
      ],
      "metadata": {
        "id": "GjAsra0zddln"
      },
      "execution_count": null,
      "outputs": []
    },
    {
      "cell_type": "markdown",
      "source": [
        "Explanation:\n",
        "\n",
        "We created an empty list hospital_ledger to store the records.\n",
        "\n",
        "We ask the user for the patient’s name, treatment, and cost of treatment using input(). The float() function is used to convert the cost into a number.\n",
        "\n",
        "We then add the patient’s visit to the ledger as a dictionary and display the ledger after each addition.\n",
        "\n",
        "\n",
        "Exercise:\n",
        "\n",
        "Run the program and add some visits. You can try different treatments and costs.\n",
        "After adding each visit, check the printed ledger to see the details.\n"
      ],
      "metadata": {
        "id": "BAcRRadodjGZ"
      }
    },
    {
      "cell_type": "markdown",
      "source": [
        "--------------"
      ],
      "metadata": {
        "id": "l9rz6niDchcw"
      }
    },
    {
      "cell_type": "markdown",
      "source": [
        "2.2 Advanced Ledger: Track Multiple Treatments for a Patient\n",
        "\n",
        "\n",
        "Now, let's enhance our hospital ledger. What if a patient visits multiple times for different treatments? We’ll keep track of each visit separately, but this time, we’ll include more details like the date of visit and allow the same patient to have multiple treatments.\n",
        "\n",
        "\n",
        "Step 1: Updating the Data Structure\n",
        "We will update the ledger to store multiple visits for the same patient by appending the visits in a nested list within each patient's dictionary. Each patient will have a list of visits, where each visit contains:\n",
        "\n",
        "1. Treatment\n",
        "\n",
        "2. Cost\n",
        "\n",
        "3. Date of Visit"
      ],
      "metadata": {
        "id": "_YE1xTqDcjiL"
      }
    },
    {
      "cell_type": "code",
      "source": [
        "# Initialize an empty hospital ledger\n",
        "hospital_ledger_advanced = {}\n",
        "\n",
        "# Function to add or update patient visits\n",
        "def add_patient_visit_advanced(patient_name, treatment, cost, date_of_visit):\n",
        "    # If patient is not already in the ledger, add them\n",
        "    if patient_name not in hospital_ledger_advanced:\n",
        "        hospital_ledger_advanced[patient_name] = []\n",
        "\n",
        "    # Add a visit for the patient\n",
        "    visit = {\n",
        "        \"treatment\": treatment,\n",
        "        \"cost\": cost,\n",
        "        \"date_of_visit\": date_of_visit\n",
        "    }\n",
        "    hospital_ledger_advanced[patient_name].append(visit)\n",
        "    print(f\"Visit added for {patient_name} on {date_of_visit} for treatment {treatment} costing {cost}.\")\n",
        "\n",
        "# Adding visits for patients\n",
        "add_patient_visit_advanced(\"John Doe\", \"Check-up\", 150, \"2025-02-09\")\n",
        "add_patient_visit_advanced(\"John Doe\", \"X-ray\", 250, \"2025-02-10\")\n",
        "add_patient_visit_advanced(\"Jane Smith\", \"Blood Test\", 100, \"2025-02-08\")\n",
        "\n",
        "# Displaying the advanced hospital ledger\n",
        "print(\"\\nAdvanced Hospital Ledger:\")\n",
        "for patient, visits in hospital_ledger_advanced.items():\n",
        "    print(f\"\\nPatient: {patient}\")\n",
        "    for visit in visits:\n",
        "        print(f\"  Treatment: {visit['treatment']}, Cost: {visit['cost']}, Date: {visit['date_of_visit']}\")\n"
      ],
      "metadata": {
        "colab": {
          "base_uri": "https://localhost:8080/"
        },
        "id": "BlFfuvl9cg1o",
        "outputId": "727331e9-a23c-45d5-f748-5b5d9492b07f"
      },
      "execution_count": null,
      "outputs": [
        {
          "output_type": "stream",
          "name": "stdout",
          "text": [
            "Visit added for John Doe on 2025-02-09 for treatment Check-up costing 150.\n",
            "Visit added for John Doe on 2025-02-10 for treatment X-ray costing 250.\n",
            "Visit added for Jane Smith on 2025-02-08 for treatment Blood Test costing 100.\n",
            "\n",
            "Advanced Hospital Ledger:\n",
            "\n",
            "Patient: John Doe\n",
            "  Treatment: Check-up, Cost: 150, Date: 2025-02-09\n",
            "  Treatment: X-ray, Cost: 250, Date: 2025-02-10\n",
            "\n",
            "Patient: Jane Smith\n",
            "  Treatment: Blood Test, Cost: 100, Date: 2025-02-08\n"
          ]
        }
      ]
    },
    {
      "cell_type": "markdown",
      "source": [
        "Explanation:\n",
        "\n",
        "The hospital_ledger_advanced is now a dictionary where the keys are patient names and the values are lists of visits.\n",
        "The function add_patient_visit_advanced allows adding multiple visits for the same patient by appending a visit to their list in the ledger.\n",
        "Each visit is represented as a dictionary with details of the treatment, cost, and date.\n",
        "Exercise:\n",
        "\n",
        "Add a few more visits for both John Doe and Jane Smith.\n",
        "Print the entire ledger to see how the data is structured for each patient."
      ],
      "metadata": {
        "id": "JkxVEyyhc11j"
      }
    },
    {
      "cell_type": "markdown",
      "source": [
        "USING iNPUT"
      ],
      "metadata": {
        "id": "5XJfHMT9dtC9"
      }
    },
    {
      "cell_type": "markdown",
      "source": [
        "Now, let’s improve our ledger. Instead of just adding a single visit per patient, we will allow multiple treatments for the same patient. This will make the ledger more advanced.\n",
        "\n",
        "\n",
        "Step 1: Updating the Data Structure\n",
        "We will store each patient as a key in the ledger (which is a dictionary), and their visits will be stored in a list of dictionaries."
      ],
      "metadata": {
        "id": "JmO_ZumWdum2"
      }
    },
    {
      "cell_type": "code",
      "source": [
        "# Initialize an empty hospital ledger (a dictionary where keys are patient names)\n",
        "hospital_ledger_advanced = {}\n",
        "\n",
        "# Function to add or update patient visits\n",
        "def add_patient_visit_advanced():\n",
        "    # Get patient details from the user\n",
        "    patient_name = input(\"Enter the patient's name: \")\n",
        "    treatment = input(\"Enter the treatment received: \")\n",
        "    cost = float(input(\"Enter the cost of the treatment: $\"))\n",
        "    date_of_visit = input(\"Enter the date of visit (YYYY-MM-DD): \")\n",
        "\n",
        "    # Create a dictionary for the visit\n",
        "    visit = {\n",
        "        \"treatment\": treatment,\n",
        "        \"cost\": cost,\n",
        "        \"date_of_visit\": date_of_visit\n",
        "    }\n",
        "\n",
        "    # Add the visit to the patient's list of visits\n",
        "    if patient_name not in hospital_ledger_advanced:\n",
        "        hospital_ledger_advanced[patient_name] = []\n",
        "\n",
        "    hospital_ledger_advanced[patient_name].append(visit)\n",
        "    print(f\"Visit added for {patient_name} on {date_of_visit} for treatment {treatment} costing ${cost}.\")\n",
        "\n",
        "# Ask the user to add visits\n",
        "add_patient_visit_advanced()\n",
        "add_patient_visit_advanced()\n",
        "\n",
        "# Display the advanced hospital ledger\n",
        "print(\"\\nAdvanced Hospital Ledger:\")\n",
        "for patient, visits in hospital_ledger_advanced.items():\n",
        "    print(f\"\\nPatient: {patient}\")\n",
        "    for visit in visits:\n",
        "        print(f\"  Treatment: {visit['treatment']}, Cost: ${visit['cost']}, Date: {visit['date_of_visit']}\")\n"
      ],
      "metadata": {
        "id": "ooq7P3RrdxIY"
      },
      "execution_count": null,
      "outputs": []
    },
    {
      "cell_type": "markdown",
      "source": [
        "Explanation:\n",
        "\n",
        "This time, the hospital_ledger_advanced is a dictionary where the keys are the patient names, and the values are lists of visits.\n",
        "Each visit contains the treatment, cost, and date of visit. This allows multiple visits for each patient.\n",
        "\n",
        "\n",
        "Exercise:\n",
        "\n",
        "Run the program and add multiple treatments for the same patient.\n",
        "Print the ledger to see how the data is stored for each patient."
      ],
      "metadata": {
        "id": "o5CtQ_ncdy0p"
      }
    },
    {
      "cell_type": "markdown",
      "source": [
        "-------------"
      ],
      "metadata": {
        "id": "jYuyVgtMc9-W"
      }
    },
    {
      "cell_type": "markdown",
      "source": [
        "2.3 Fun Activity: Find the Most Expensive Treatment\n",
        "\n",
        "\n",
        "Here’s a fun task to further explore the hospital ledger. We will write a function that finds the most expensive treatment from all the visits in the hospital ledger.\n",
        "\n",
        "\n",
        "\n"
      ],
      "metadata": {
        "id": "1u8OP8z_c_Y_"
      }
    },
    {
      "cell_type": "code",
      "source": [
        "# Function to find the most expensive treatment\n",
        "def find_most_expensive_treatment():\n",
        "    max_cost = 0\n",
        "    most_expensive_treatment = None\n",
        "    for patient, visits in hospital_ledger_advanced.items():\n",
        "        for visit in visits:\n",
        "            if visit['cost'] > max_cost:\n",
        "                max_cost = visit['cost']\n",
        "                most_expensive_treatment = visit['treatment']\n",
        "    print(f\"The most expensive treatment is {most_expensive_treatment} costing {max_cost}.\")\n",
        "\n",
        "# Call the function to find the most expensive treatment\n",
        "find_most_expensive_treatment()\n"
      ],
      "metadata": {
        "colab": {
          "base_uri": "https://localhost:8080/"
        },
        "id": "TgJj1bpWc-fn",
        "outputId": "de4e861b-088f-4fc8-91fb-deb31c38f943"
      },
      "execution_count": null,
      "outputs": [
        {
          "output_type": "stream",
          "name": "stdout",
          "text": [
            "The most expensive treatment is X-ray costing 250.\n"
          ]
        }
      ]
    },
    {
      "cell_type": "markdown",
      "source": [
        "------------"
      ],
      "metadata": {
        "id": "83SI-fuzdH2L"
      }
    },
    {
      "cell_type": "markdown",
      "source": [
        "2.4 Summary\n",
        "\n",
        "In this section, we:\n",
        "\n",
        "\n",
        "1. Built a simple ledger for tracking patient visits.\n",
        "\n",
        "2. Enhanced the ledger to track multiple treatments per patient.\n",
        "\n",
        "3. Created a fun activity to find the most expensive treatment in the ledger.\n",
        "\n",
        "By combining simple data structures like lists and dictionaries, we were able to simulate a hospital’s treatment ledger in a beginner-friendly way. You learned how to:\n",
        "\n",
        "\n",
        "* Add multiple records.\n",
        "\n",
        "* Update existing records.\n",
        "\n",
        "* Iterate through and search for specific data in your ledger.\n",
        "\n",
        "The advanced ledger we created is a stepping stone to understanding how data can be organized and managed in real-world applications like blockchain systems!"
      ],
      "metadata": {
        "id": "lkgBuUCJdIXL"
      }
    }
  ]
}