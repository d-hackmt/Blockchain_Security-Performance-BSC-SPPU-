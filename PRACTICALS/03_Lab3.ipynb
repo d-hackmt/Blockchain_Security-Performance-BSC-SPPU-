{
  "nbformat": 4,
  "nbformat_minor": 0,
  "metadata": {
    "colab": {
      "provenance": [],
      "collapsed_sections": [
        "V7FHO8U_Z31m",
        "ajjOFSwzaOgR",
        "jJ6bOScTcF_L",
        "ERHuULDT9w8j",
        "WNyEcWgsd5Yb",
        "P4hmVG88qCIC",
        "2eN8JDdj9ABO",
        "SUOC_2dR-IDD",
        "qt3ia1V9-CkA",
        "rtfRLA3k-xxw",
        "Ho3a3mQN_POi",
        "qLtvlKMi_lYp",
        "c-KokOKqqQvJ",
        "afkHx_IcHskW",
        "TCXnx7tsIBvl",
        "XNnNs1EpIa6S",
        "Uivun3VLI6rJ",
        "MWJSPeKVJr0y",
        "8U_8LIemqXAU",
        "QbRK0N8OqZEN",
        "nhBY0IRCqa6d",
        "8ucAKgpvqgPx",
        "J5HZB8nWqhyK"
      ]
    },
    "kernelspec": {
      "name": "python3",
      "display_name": "Python 3"
    },
    "language_info": {
      "name": "python"
    }
  },
  "cells": [
    {
      "cell_type": "markdown",
      "source": [
        "# **📜 LAB 3**  -  Creating a Simple Blockchain\n"
      ],
      "metadata": {
        "id": "P4hmVG88qCIC"
      }
    },
    {
      "cell_type": "markdown",
      "source": [
        "## 🔹 What is a Block?\n",
        "\n",
        "A block in a blockchain is just a container that holds data. Let's represent it using:\n",
        "\n",
        "✅ Lists – Good for storing multiple blocks (our blockchain).\n",
        "\n",
        "✅ Dictionaries – Good for storing individual block data (each block).\n",
        "\n"
      ],
      "metadata": {
        "id": "2eN8JDdj9ABO"
      }
    },
    {
      "cell_type": "markdown",
      "source": [
        "📦 Structure of a Block\n",
        "A block in a blockchain typically contains the following:\n",
        "\n",
        "\n",
        "Data – The actual information stored in the block (e.g., transactions).\n",
        "\n",
        "Timestamp – When the block was created.\n",
        "Previous Hash – The unique ID (hash) of the previous block, linking them together.\n",
        "\n",
        "Current Hash – A unique identifier for the block, generated using the data inside it.\n",
        "\n",
        "Let's create a basic block using Python dictionaries and lists before adding hashing."
      ],
      "metadata": {
        "id": "oMQ1wHpT9d6V"
      }
    },
    {
      "cell_type": "code",
      "source": [
        "  # Creating a simple block as a dictionary\n",
        "block = {\n",
        "    \"index\": 1,  # Block number\n",
        "    \"data\": \"Patient A - X-Ray Scan\",  # Block content\n",
        "    \"timestamp\": \"2025-02-22 10:00:00\",  # When the block was created\n",
        "    \"previous_block\": None  # The first block has no previous block\n",
        "}\n",
        "\n",
        "# Display the block\n",
        "print(block)\n"
      ],
      "metadata": {
        "colab": {
          "base_uri": "https://localhost:8080/"
        },
        "id": "gMGCPxROqFyK",
        "outputId": "a397be47-f7dc-4e2d-c407-fd21121d1c84"
      },
      "execution_count": null,
      "outputs": [
        {
          "output_type": "stream",
          "name": "stdout",
          "text": [
            "{'index': 1, 'data': 'Patient A - X-Ray Scan', 'timestamp': '2025-02-22 10:00:00', 'previous_block': None}\n"
          ]
        }
      ]
    },
    {
      "cell_type": "markdown",
      "source": [
        "📌 Explanation:\n",
        "\n",
        "index: Position of the block in the chain.\n",
        "\n",
        "data: The actual information stored.\n",
        "\n",
        "timestamp: When the block was created.\n",
        "\n",
        "previous_block: The previous block’s reference (first block has None).\n"
      ],
      "metadata": {
        "id": "Oq7HEvnY9H4a"
      }
    },
    {
      "cell_type": "markdown",
      "source": [
        "What is a Blockchain?\n",
        "\n",
        "A blockchain is a special kind of database that stores information in a chain of \"blocks.\" Each block contains some data, a timestamp, and a unique identifier (hash) that links it to the previous block. This makes the data secure and immutable (cannot be changed easily).\n",
        "\n",
        "Imagine a notebook where you write down transactions (like payments, medical records, etc.). Each page represents a block and is numbered so that no one can remove or modify a page without breaking the numbering sequence. Similarly, in a blockchain, every block contains a reference to the previous block, making tampering difficult."
      ],
      "metadata": {
        "id": "0vsg_8sO9XX6"
      }
    },
    {
      "cell_type": "markdown",
      "source": [
        "## 2️⃣ Setting Up the Block Structure"
      ],
      "metadata": {
        "id": "SUOC_2dR-IDD"
      }
    },
    {
      "cell_type": "markdown",
      "source": [
        "🔹 Step 1 : Creating a Simple Block (Without Hashing)\n",
        "📌 First, we’ll create a simple block using a dictionary."
      ],
      "metadata": {
        "id": "_HkheIqt9MO8"
      }
    },
    {
      "cell_type": "code",
      "source": [
        "import time  # To add timestamp\n",
        "\n",
        "# Function to create a block\n",
        "def create_block(data, prev_hash):\n",
        "    block = {\n",
        "        \"data\": data,\n",
        "        \"timestamp\": time.time(),  # Get the current time\n",
        "        \"previous_hash\": prev_hash  # Link to previous block\n",
        "    }\n",
        "    return block\n",
        "\n",
        "# Creating the first block (Genesis Block)\n",
        "genesis_block = create_block(\"First Block\", \"None\")\n",
        "\n",
        "# Creating a second block linked to the first\n",
        "second_block = create_block(\"Second Block\", str(genesis_block))\n",
        "\n",
        "# Printing the blocks\n",
        "print(\"Genesis Block:\", genesis_block)\n",
        "print(\"Second Block:\", second_block)\n"
      ],
      "metadata": {
        "colab": {
          "base_uri": "https://localhost:8080/"
        },
        "id": "ns5-6uvN9NqO",
        "outputId": "57b5e55b-87e1-4b08-f49f-4c98ebb50a38"
      },
      "execution_count": null,
      "outputs": [
        {
          "output_type": "stream",
          "name": "stdout",
          "text": [
            "Genesis Block: {'data': 'First Block', 'timestamp': 1740820094.093009, 'previous_hash': 'None'}\n",
            "Second Block: {'data': 'Second Block', 'timestamp': 1740820094.0930507, 'previous_hash': \"{'data': 'First Block', 'timestamp': 1740820094.093009, 'previous_hash': 'None'}\"}\n"
          ]
        }
      ]
    },
    {
      "cell_type": "markdown",
      "source": [
        "🔹 Step 2: Linking Blocks Together\n",
        "Now, let’s store these blocks in a list to form a blockchain."
      ],
      "metadata": {
        "id": "CPTO0tjN9qT8"
      }
    },
    {
      "cell_type": "code",
      "source": [
        "blockchain = []  # Our blockchain is just a list\n",
        "blockchain.append(genesis_block)\n",
        "blockchain.append(second_block)\n",
        "\n",
        "# Print the blockchain\n",
        "for block in blockchain:\n",
        "    print(\"\\nBlock:\")\n",
        "    print(\"Data:\", block[\"data\"])\n",
        "    print(\"Timestamp:\", block[\"timestamp\"])\n",
        "    print(\"Previous Hash:\", block[\"previous_hash\"])\n"
      ],
      "metadata": {
        "colab": {
          "base_uri": "https://localhost:8080/"
        },
        "id": "vAmEABBm9NoO",
        "outputId": "b0244940-2645-4267-a0a5-16a16229064e"
      },
      "execution_count": null,
      "outputs": [
        {
          "output_type": "stream",
          "name": "stdout",
          "text": [
            "\n",
            "Block:\n",
            "Data: First Block\n",
            "Timestamp: 1740820094.093009\n",
            "Previous Hash: None\n",
            "\n",
            "Block:\n",
            "Data: Second Block\n",
            "Timestamp: 1740820094.0930507\n",
            "Previous Hash: {'data': 'First Block', 'timestamp': 1740820094.093009, 'previous_hash': 'None'}\n"
          ]
        }
      ]
    },
    {
      "cell_type": "markdown",
      "source": [
        "🔑 Adding Hashing (to Make it More Secure)\n",
        "\n",
        "Now, let’s add hashing to make our blockchain more secure.\n",
        "\n",
        "We will use Python’s hashlib to generate unique IDs (hashes) for each block."
      ],
      "metadata": {
        "id": "Ujjco4mY9v5f"
      }
    },
    {
      "cell_type": "code",
      "source": [
        "import hashlib  # Library for hashing\n",
        "\n",
        "# Function to create a hashed block\n",
        "def create_hashed_block(data, prev_hash):\n",
        "    timestamp = str(time.time())  # Convert time to string for hashing\n",
        "    block_data = data + timestamp + prev_hash  # Combine all info\n",
        "    block_hash = hashlib.sha256(block_data.encode()).hexdigest()  # Generate hash\n",
        "\n",
        "    block = {\n",
        "        \"data\": data,\n",
        "        \"timestamp\": timestamp,\n",
        "        \"previous_hash\": prev_hash,\n",
        "        \"hash\": block_hash  # Store the generated hash\n",
        "    }\n",
        "    return block\n",
        "\n",
        "# Creating blocks with hashing\n",
        "genesis_block = create_hashed_block(\"First Block\", \"None\")\n",
        "second_block = create_hashed_block(\"Second Block\", genesis_block[\"hash\"])\n",
        "\n",
        "# Storing in blockchain list\n",
        "blockchain = [genesis_block, second_block]\n",
        "\n",
        "# Displaying blocks\n",
        "for block in blockchain:\n",
        "    print(\"\\nBlock:\")\n",
        "    print(\"Data:\", block[\"data\"])\n",
        "    print(\"Timestamp:\", block[\"timestamp\"])\n",
        "    print(\"Previous Hash:\", block[\"previous_hash\"])\n",
        "    print(\"Hash:\", block[\"hash\"])  # Display block hash\n"
      ],
      "metadata": {
        "colab": {
          "base_uri": "https://localhost:8080/"
        },
        "id": "NXQ6hlM29NmX",
        "outputId": "0c7eb655-fa12-4a35-88d4-71b70c3e53a7"
      },
      "execution_count": null,
      "outputs": [
        {
          "output_type": "stream",
          "name": "stdout",
          "text": [
            "\n",
            "Block:\n",
            "Data: First Block\n",
            "Timestamp: 1740820158.5335195\n",
            "Previous Hash: None\n",
            "Hash: ddff24ac0df0e56552447179975afb0772f6ebee4de583180bd906abfbac3053\n",
            "\n",
            "Block:\n",
            "Data: Second Block\n",
            "Timestamp: 1740820158.533609\n",
            "Previous Hash: ddff24ac0df0e56552447179975afb0772f6ebee4de583180bd906abfbac3053\n",
            "Hash: 1345ed9c193261c860859fadf0a7a09ea09672ad36f267c280a8ae1edefdb93f\n"
          ]
        }
      ]
    },
    {
      "cell_type": "markdown",
      "source": [
        "##  3️⃣ Creating the Blockchain\n",
        "Now that we understand what a block is, let's build an actual blockchain step by step!"
      ],
      "metadata": {
        "id": "qt3ia1V9-CkA"
      }
    },
    {
      "cell_type": "markdown",
      "source": [
        "🛠️ Step 1: Initializing the Blockchain (Genesis Block)\n",
        "\n",
        "A blockchain always starts with the first block, called the Genesis Block. This block is special because it does not have a previous block.\n",
        "\n",
        "Let's create the Genesis Block and store it in a list."
      ],
      "metadata": {
        "id": "ku_kFjvu-c6d"
      }
    },
    {
      "cell_type": "code",
      "source": [
        "import time  # To add timestamps\n",
        "\n",
        "# Initialize an empty blockchain (list)\n",
        "blockchain = []\n",
        "\n",
        "# Function to create a block\n",
        "def create_block(index, data, previous_hash):\n",
        "    block = {\n",
        "        \"index\": index,\n",
        "        \"data\": data,\n",
        "        \"timestamp\": time.time(),\n",
        "        \"previous_hash\": previous_hash  # Stores the hash of the previous block\n",
        "    }\n",
        "    return block\n",
        "\n",
        "# Creating the Genesis Block (First Block)\n",
        "genesis_block = create_block(1, \"Genesis Block\", \"0\")  # Previous hash is \"0\" for the first block\n",
        "blockchain.append(genesis_block)  # Add to the blockchain\n",
        "\n",
        "# Print the Genesis Block\n",
        "print(\"Genesis Block Created:\")\n",
        "print(genesis_block)\n"
      ],
      "metadata": {
        "colab": {
          "base_uri": "https://localhost:8080/"
        },
        "id": "6Xbed76S9Nkl",
        "outputId": "cfd865f3-6e37-4395-f6ad-9ca959099458"
      },
      "execution_count": null,
      "outputs": [
        {
          "output_type": "stream",
          "name": "stdout",
          "text": [
            "Genesis Block Created:\n",
            "{'index': 1, 'data': 'Genesis Block', 'timestamp': 1740820311.0952406, 'previous_hash': '0'}\n"
          ]
        }
      ]
    },
    {
      "cell_type": "markdown",
      "source": [
        "🛠️ Step 2: Adding New Blocks to the Chain\n",
        "Now, let's create new blocks and add them to the blockchain."
      ],
      "metadata": {
        "id": "RQxaD_iW-g8P"
      }
    },
    {
      "cell_type": "code",
      "source": [
        "import hashlib  # To generate unique hashes\n",
        "\n",
        "# Function to generate a unique hash for each block\n",
        "def generate_hash(block):\n",
        "    block_string = f\"{block['index']}{block['data']}{block['timestamp']}{block['previous_hash']}\"\n",
        "    return hashlib.sha256(block_string.encode()).hexdigest()\n",
        "\n",
        "# Function to add a new block\n",
        "def add_block(data):\n",
        "    previous_block = blockchain[-1]  # Get the last block in the chain\n",
        "    new_index = previous_block[\"index\"] + 1  # New block index\n",
        "    new_hash = generate_hash(previous_block)  # Hash of the last block\n",
        "\n",
        "    # Create a new block\n",
        "    new_block = create_block(new_index, data, new_hash)\n",
        "    blockchain.append(new_block)  # Add to the blockchain\n",
        "\n",
        "# Adding some new blocks\n",
        "add_block(\"Patient A - MRI Scan\")\n",
        "add_block(\"Patient B - Blood Test\")\n",
        "add_block(\"Patient C - CT Scan\")\n",
        "\n",
        "# Print the blockchain\n",
        "print(\"\\nUpdated Blockchain:\")\n",
        "for block in blockchain:\n",
        "    print(\"\\nBlock Index:\", block[\"index\"])\n",
        "    print(\"Data:\", block[\"data\"])\n",
        "    print(\"Timestamp:\", block[\"timestamp\"])\n",
        "    print(\"Previous Hash:\", block[\"previous_hash\"])\n"
      ],
      "metadata": {
        "colab": {
          "base_uri": "https://localhost:8080/"
        },
        "id": "g6Kwr49R9Nid",
        "outputId": "6128f600-42dc-4c44-b429-34ec48be1ccc"
      },
      "execution_count": null,
      "outputs": [
        {
          "output_type": "stream",
          "name": "stdout",
          "text": [
            "\n",
            "Updated Blockchain:\n",
            "\n",
            "Block Index: 1\n",
            "Data: Genesis Block\n",
            "Timestamp: 1740820311.0952406\n",
            "Previous Hash: 0\n",
            "\n",
            "Block Index: 2\n",
            "Data: Patient A - MRI Scan\n",
            "Timestamp: 1740820326.9747243\n",
            "Previous Hash: 0772bab5371d80ac71e3efe6e23a1546d90288e7ab2dffa5bf2eb6619e1dd224\n",
            "\n",
            "Block Index: 3\n",
            "Data: Patient B - Blood Test\n",
            "Timestamp: 1740820326.9747636\n",
            "Previous Hash: e01ffc781171bd7ca7fb1bfec02641941a1eeb165a3fee20251df46457502609\n",
            "\n",
            "Block Index: 4\n",
            "Data: Patient C - CT Scan\n",
            "Timestamp: 1740820326.9747934\n",
            "Previous Hash: 255adc4109a77a722730bd438003ca0f51d6e1ddb47c42d5609e61cd56f4dcee\n"
          ]
        }
      ]
    },
    {
      "cell_type": "markdown",
      "source": [
        "🛠️ Step 3: Linking Blocks Using the Previous Hash\n",
        "In a blockchain, each block links to the previous one using the hash.\n",
        "This ensures data integrity and prevents tampering.\n",
        "\n",
        "Here’s how our blockchain works now:\n",
        "\n",
        "\n",
        "\n",
        "\n",
        "```\n",
        "Genesis Block → Block 1 → Block 2 → Block 3\n",
        "(previous_hash)  (previous_hash)  (previous_hash)\n",
        "\n",
        "```\n",
        "\n"
      ],
      "metadata": {
        "id": "EFtWcZdN-pq8"
      }
    },
    {
      "cell_type": "markdown",
      "source": [
        "✅ Key Takeaways\n",
        "\n",
        "✔️ A blockchain is just a list of connected blocks.\n",
        "\n",
        "✔️ The Genesis Block starts the chain.\n",
        "\n",
        "✔️ Each new block stores the previous block’s hash, making it tamper-proof.\n",
        "\n"
      ],
      "metadata": {
        "id": "v12PAo9h-uNw"
      }
    },
    {
      "cell_type": "markdown",
      "source": [
        "##  4️⃣ Displaying the Blockchain\n",
        "Now that we have successfully created a blockchain and linked blocks together, let's focus on how to display it properly.\n",
        "\n",
        "Instead of printing raw dictionaries, we will format the output to make it clean and readable."
      ],
      "metadata": {
        "id": "rtfRLA3k-xxw"
      }
    },
    {
      "cell_type": "markdown",
      "source": [
        "🛠️ Step 1: Printing the Blockchain in a Readable Format\n",
        "\n",
        "Let's create a function that displays the blockchain in a structured way"
      ],
      "metadata": {
        "id": "kjEo2C7o-5XT"
      }
    },
    {
      "cell_type": "code",
      "source": [
        "# Function to display the blockchain\n",
        "def display_blockchain():\n",
        "    print(\"\\n📜 Complete Blockchain:\\n\")\n",
        "    for block in blockchain:\n",
        "        print(\"=\" * 40)\n",
        "        print(f\"🆔 Block Index: {block['index']}\")\n",
        "        print(f\"📅 Timestamp: {time.ctime(block['timestamp'])}\")\n",
        "        print(f\"📜 Data: {block['data']}\")\n",
        "        print(f\"🔗 Previous Hash: {block['previous_hash']}\")\n",
        "        print(\"=\" * 40)\n",
        "\n",
        "# Call the function to display the blockchain\n",
        "display_blockchain()\n"
      ],
      "metadata": {
        "colab": {
          "base_uri": "https://localhost:8080/"
        },
        "id": "02CsZIk29NY_",
        "outputId": "79a2170d-d8ca-4790-b227-3924650936e0"
      },
      "execution_count": null,
      "outputs": [
        {
          "output_type": "stream",
          "name": "stdout",
          "text": [
            "\n",
            "📜 Complete Blockchain:\n",
            "\n",
            "========================================\n",
            "🆔 Block Index: 1\n",
            "📅 Timestamp: Sat Mar  1 09:11:51 2025\n",
            "📜 Data: Genesis Block\n",
            "🔗 Previous Hash: 0\n",
            "========================================\n",
            "========================================\n",
            "🆔 Block Index: 2\n",
            "📅 Timestamp: Sat Mar  1 09:12:06 2025\n",
            "📜 Data: Patient A - MRI Scan\n",
            "🔗 Previous Hash: 0772bab5371d80ac71e3efe6e23a1546d90288e7ab2dffa5bf2eb6619e1dd224\n",
            "========================================\n",
            "========================================\n",
            "🆔 Block Index: 3\n",
            "📅 Timestamp: Sat Mar  1 09:12:06 2025\n",
            "📜 Data: Patient B - Blood Test\n",
            "🔗 Previous Hash: e01ffc781171bd7ca7fb1bfec02641941a1eeb165a3fee20251df46457502609\n",
            "========================================\n",
            "========================================\n",
            "🆔 Block Index: 4\n",
            "📅 Timestamp: Sat Mar  1 09:12:06 2025\n",
            "📜 Data: Patient C - CT Scan\n",
            "🔗 Previous Hash: 255adc4109a77a722730bd438003ca0f51d6e1ddb47c42d5609e61cd56f4dcee\n",
            "========================================\n"
          ]
        }
      ]
    },
    {
      "cell_type": "markdown",
      "source": [
        "📌 Explanation:\n",
        "\n",
        "✔️ Loops through the blockchain and prints each block.\n",
        "\n",
        "✔️ Formats the timestamp to make it more readable.\n",
        "\n",
        "✔️ Uses lines (= * 40) for better visibility.\n",
        "\n"
      ],
      "metadata": {
        "id": "G_913--1_AYH"
      }
    },
    {
      "cell_type": "markdown",
      "source": [
        "🛠️ Step 2: Improving Readability with JSON Format\n",
        "\n",
        "A better way to display structured data is using JSON-style formatting."
      ],
      "metadata": {
        "id": "YRzsr68E_CfI"
      }
    },
    {
      "cell_type": "code",
      "source": [
        "import json  # To format data nicely\n",
        "\n",
        "# Function to display blockchain in JSON format\n",
        "def display_blockchain_json():\n",
        "    print(\"\\n📜 Blockchain in JSON Format:\\n\")\n",
        "    print(json.dumps(blockchain, indent=4))  # Pretty print with 4 spaces\n",
        "\n",
        "# Call the function\n",
        "display_blockchain_json()\n"
      ],
      "metadata": {
        "colab": {
          "base_uri": "https://localhost:8080/"
        },
        "id": "SXwfx1Lr9NXI",
        "outputId": "2d3a8d88-c055-44c4-eea3-d6a8fe884e6a"
      },
      "execution_count": null,
      "outputs": [
        {
          "output_type": "stream",
          "name": "stdout",
          "text": [
            "\n",
            "📜 Blockchain in JSON Format:\n",
            "\n",
            "[\n",
            "    {\n",
            "        \"index\": 1,\n",
            "        \"data\": \"Genesis Block\",\n",
            "        \"timestamp\": 1740820311.0952406,\n",
            "        \"previous_hash\": \"0\"\n",
            "    },\n",
            "    {\n",
            "        \"index\": 2,\n",
            "        \"data\": \"Patient A - MRI Scan\",\n",
            "        \"timestamp\": 1740820326.9747243,\n",
            "        \"previous_hash\": \"0772bab5371d80ac71e3efe6e23a1546d90288e7ab2dffa5bf2eb6619e1dd224\"\n",
            "    },\n",
            "    {\n",
            "        \"index\": 3,\n",
            "        \"data\": \"Patient B - Blood Test\",\n",
            "        \"timestamp\": 1740820326.9747636,\n",
            "        \"previous_hash\": \"e01ffc781171bd7ca7fb1bfec02641941a1eeb165a3fee20251df46457502609\"\n",
            "    },\n",
            "    {\n",
            "        \"index\": 4,\n",
            "        \"data\": \"Patient C - CT Scan\",\n",
            "        \"timestamp\": 1740820326.9747934,\n",
            "        \"previous_hash\": \"255adc4109a77a722730bd438003ca0f51d6e1ddb47c42d5609e61cd56f4dcee\"\n",
            "    }\n",
            "]\n"
          ]
        }
      ]
    },
    {
      "cell_type": "markdown",
      "source": [
        "📌 Explanation:\n",
        "\n",
        "✔️ The json.dumps() function converts our Python dictionary into a clean JSON format.\n",
        "\n",
        "✔️ The indent=4 makes it easy to read"
      ],
      "metadata": {
        "id": "vJ5w5qNf_Gba"
      }
    },
    {
      "cell_type": "markdown",
      "source": [
        "🛠️ Step 3: Displaying Blockchain as a Table (Optional for Better Visualization)\n",
        "\n",
        "If you want to see the blockchain in a tabular format, use the tabulate library.\n",
        "\n",
        "\n"
      ],
      "metadata": {
        "id": "bAEWi9pj_ILT"
      }
    },
    {
      "cell_type": "code",
      "source": [
        "from tabulate import tabulate  # Install using: pip install tabulate\n",
        "\n",
        "# Function to display blockchain as a table\n",
        "def display_blockchain_table():\n",
        "    table_data = []\n",
        "    for block in blockchain:\n",
        "        table_data.append([\n",
        "            block[\"index\"],\n",
        "            block[\"data\"],\n",
        "            time.ctime(block[\"timestamp\"]),\n",
        "            block[\"previous_hash\"]\n",
        "        ])\n",
        "\n",
        "    print(\"\\n📜 Blockchain Table View:\\n\")\n",
        "    print(tabulate(table_data, headers=[\"Block Index\", \"Data\", \"Timestamp\", \"Previous Hash\"], tablefmt=\"fancy_grid\"))\n",
        "\n",
        "# Call the function\n",
        "display_blockchain_table()\n"
      ],
      "metadata": {
        "colab": {
          "base_uri": "https://localhost:8080/"
        },
        "id": "PSWNzleC9NVF",
        "outputId": "2dc7ab98-aa09-44c6-be39-8ddd3b423f9b"
      },
      "execution_count": null,
      "outputs": [
        {
          "output_type": "stream",
          "name": "stdout",
          "text": [
            "\n",
            "📜 Blockchain Table View:\n",
            "\n",
            "╒═══════════════╤════════════════════════╤══════════════════════════╤══════════════════════════════════════════════════════════════════╕\n",
            "│   Block Index │ Data                   │ Timestamp                │ Previous Hash                                                    │\n",
            "╞═══════════════╪════════════════════════╪══════════════════════════╪══════════════════════════════════════════════════════════════════╡\n",
            "│             1 │ Genesis Block          │ Sat Mar  1 09:11:51 2025 │ 0                                                                │\n",
            "├───────────────┼────────────────────────┼──────────────────────────┼──────────────────────────────────────────────────────────────────┤\n",
            "│             2 │ Patient A - MRI Scan   │ Sat Mar  1 09:12:06 2025 │ 0772bab5371d80ac71e3efe6e23a1546d90288e7ab2dffa5bf2eb6619e1dd224 │\n",
            "├───────────────┼────────────────────────┼──────────────────────────┼──────────────────────────────────────────────────────────────────┤\n",
            "│             3 │ Patient B - Blood Test │ Sat Mar  1 09:12:06 2025 │ e01ffc781171bd7ca7fb1bfec02641941a1eeb165a3fee20251df46457502609 │\n",
            "├───────────────┼────────────────────────┼──────────────────────────┼──────────────────────────────────────────────────────────────────┤\n",
            "│             4 │ Patient C - CT Scan    │ Sat Mar  1 09:12:06 2025 │ 255adc4109a77a722730bd438003ca0f51d6e1ddb47c42d5609e61cd56f4dcee │\n",
            "╘═══════════════╧════════════════════════╧══════════════════════════╧══════════════════════════════════════════════════════════════════╛\n"
          ]
        }
      ]
    },
    {
      "cell_type": "markdown",
      "source": [
        "📌 Explanation:\n",
        "\n",
        "✔️ Uses tabulate to print a table with headers.\n",
        "\n",
        "✔️ Improves readability, making it easier to analyze blockchain data."
      ],
      "metadata": {
        "id": "_-ToYbWr_M4l"
      }
    },
    {
      "cell_type": "markdown",
      "source": [
        "## 5️⃣ Manually Adding Blocks to the Blockchain\n",
        "Now that we have a basic blockchain structure, let's manually add new blocks with user input. This step will help us understand how new data is stored and linked in the blockchain.\n",
        "\n"
      ],
      "metadata": {
        "id": "Ho3a3mQN_POi"
      }
    },
    {
      "cell_type": "markdown",
      "source": [
        "🛠️ Step 1: Writing a Function to Add Blocks\n",
        "We will create a function that:\n",
        "\n",
        "✔️ Takes user input as data for the block\n",
        "\n",
        "✔️ Calculates the hash of the previous block\n",
        "\n",
        "✔️ Creates a new block and adds it to the blockchain"
      ],
      "metadata": {
        "id": "M2agxZ_6_Riv"
      }
    },
    {
      "cell_type": "markdown",
      "source": [
        "🔹 Code to Add a New Block:"
      ],
      "metadata": {
        "id": "zr8fUZGt_T0T"
      }
    },
    {
      "cell_type": "code",
      "source": [
        "import time\n",
        "import hashlib\n",
        "\n",
        "# Initialize blockchain with Genesis Block\n",
        "blockchain = [\n",
        "    {\n",
        "        \"index\": 0,\n",
        "        \"timestamp\": time.time(),\n",
        "        \"data\": \"Genesis Block\",\n",
        "        \"previous_hash\": \"0\",\n",
        "        \"hash\": hashlib.sha256(\"Genesis Block\".encode()).hexdigest()\n",
        "    }\n",
        "]\n",
        "\n",
        "# Function to create a new block\n",
        "def add_block(data):\n",
        "    previous_block = blockchain[-1]  # Get last block\n",
        "    index = previous_block[\"index\"] + 1  # New block index\n",
        "    timestamp = time.time()  # Current time\n",
        "    previous_hash = previous_block[\"hash\"]  # Hash of last block\n",
        "\n",
        "    # Create block data as a string for hashing\n",
        "    block_content = f\"{index}{timestamp}{data}{previous_hash}\"\n",
        "    block_hash = hashlib.sha256(block_content.encode()).hexdigest()  # Generate block hash\n",
        "\n",
        "    # Create new block\n",
        "    new_block = {\n",
        "        \"index\": index,\n",
        "        \"timestamp\": timestamp,\n",
        "        \"data\": data,\n",
        "        \"previous_hash\": previous_hash,\n",
        "        \"hash\": block_hash\n",
        "    }\n",
        "\n",
        "    blockchain.append(new_block)  # Add block to the blockchain\n",
        "    print(f\"\\n✅ Block {index} added successfully!\\n\")\n",
        "\n",
        "\n",
        "# Manually adding a block\n",
        "user_data = input(\"Enter data for the new block: \")  # Taking input from user\n",
        "add_block(user_data)\n"
      ],
      "metadata": {
        "colab": {
          "base_uri": "https://localhost:8080/"
        },
        "id": "rL2VmpYL9NTF",
        "outputId": "7dc18853-6098-49e4-ad6f-29ca47a8e8b0"
      },
      "execution_count": null,
      "outputs": [
        {
          "output_type": "stream",
          "name": "stdout",
          "text": [
            "Enter data for the new block: xyzabc\n",
            "\n",
            "✅ Block 1 added successfully!\n",
            "\n"
          ]
        }
      ]
    },
    {
      "cell_type": "markdown",
      "source": [
        "🛠️ Step 2: Taking Multiple User Inputs to Add Blocks\n",
        "Instead of adding just one block, let's allow the user to add multiple blocks.\n",
        "\n",
        "🔹 Code for Adding Multiple Blocks:"
      ],
      "metadata": {
        "id": "xIMez9df9NQ9"
      }
    },
    {
      "cell_type": "code",
      "source": [
        "while True:\n",
        "    user_data = input(\"\\nEnter data for the new block (or type 'exit' to stop): \")\n",
        "    if user_data.lower() == \"exit\":\n",
        "        break\n",
        "    add_block(user_data)\n"
      ],
      "metadata": {
        "colab": {
          "base_uri": "https://localhost:8080/"
        },
        "id": "VPmnDsfj9NO9",
        "outputId": "ad0b0c3c-c488-4308-ecf1-5bb60312ebe9"
      },
      "execution_count": null,
      "outputs": [
        {
          "name": "stdout",
          "output_type": "stream",
          "text": [
            "\n",
            "Enter data for the new block (or type 'exit' to stop): abx\n",
            "\n",
            "✅ Block 2 added successfully!\n",
            "\n",
            "\n",
            "Enter data for the new block (or type 'exit' to stop): zkx\n",
            "\n",
            "✅ Block 3 added successfully!\n",
            "\n",
            "\n",
            "Enter data for the new block (or type 'exit' to stop): exit\n"
          ]
        }
      ]
    },
    {
      "cell_type": "markdown",
      "source": [
        "🛠️ Step 3: Printing the Final Blockchain\n",
        "After adding multiple blocks, let's print the entire blockchain to see our stored data.\n",
        "\n",
        "🔹 Code to Print the Blockchain:"
      ],
      "metadata": {
        "id": "rkrxdQv2_ggX"
      }
    },
    {
      "cell_type": "code",
      "source": [
        "import json\n",
        "\n",
        "# Function to print blockchain in JSON format\n",
        "def display_blockchain():\n",
        "    print(\"\\n📜 Final Blockchain:\")\n",
        "    print(json.dumps(blockchain, indent=4))\n",
        "\n",
        "# Display blockchain\n",
        "display_blockchain()\n"
      ],
      "metadata": {
        "colab": {
          "base_uri": "https://localhost:8080/"
        },
        "id": "chLwtIXY9NM6",
        "outputId": "f05c2fe9-f953-4cae-f7c5-21a739c841ab"
      },
      "execution_count": null,
      "outputs": [
        {
          "output_type": "stream",
          "name": "stdout",
          "text": [
            "\n",
            "📜 Final Blockchain:\n",
            "[\n",
            "    {\n",
            "        \"index\": 0,\n",
            "        \"timestamp\": 1740820536.5516758,\n",
            "        \"data\": \"Genesis Block\",\n",
            "        \"previous_hash\": \"0\",\n",
            "        \"hash\": \"89eb0ac031a63d2421cd05a2fbe41f3ea35f5c3712ca839cbf6b85c4ee07b7a3\"\n",
            "    },\n",
            "    {\n",
            "        \"index\": 1,\n",
            "        \"timestamp\": 1740820543.03487,\n",
            "        \"data\": \"xyzabc\",\n",
            "        \"previous_hash\": \"89eb0ac031a63d2421cd05a2fbe41f3ea35f5c3712ca839cbf6b85c4ee07b7a3\",\n",
            "        \"hash\": \"a2d6c3f1a2ff05dcb61dba1fb7a677c04613a4f082863f8a6abd0c7d3449a8a4\"\n",
            "    },\n",
            "    {\n",
            "        \"index\": 2,\n",
            "        \"timestamp\": 1740820567.9966886,\n",
            "        \"data\": \"abx\",\n",
            "        \"previous_hash\": \"a2d6c3f1a2ff05dcb61dba1fb7a677c04613a4f082863f8a6abd0c7d3449a8a4\",\n",
            "        \"hash\": \"5229186556dc19076f050b9af1ba921c4a6cde9b8b9cbc19e244e51873c48199\"\n",
            "    },\n",
            "    {\n",
            "        \"index\": 3,\n",
            "        \"timestamp\": 1740820571.3110464,\n",
            "        \"data\": \"zkx\",\n",
            "        \"previous_hash\": \"5229186556dc19076f050b9af1ba921c4a6cde9b8b9cbc19e244e51873c48199\",\n",
            "        \"hash\": \"8757e9724bb7f212dbc4fd20b4bf36f2da13a46ec0f483bf3a9d04f8fab43904\"\n",
            "    }\n",
            "]\n"
          ]
        }
      ]
    },
    {
      "cell_type": "markdown",
      "source": [
        "## 6️⃣ Securing the Blockchain & Detecting Tampering 🔒\n",
        "\n",
        "Now that we can add blocks manually, let’s focus on security.\n",
        "\n",
        "\n",
        "A blockchain is designed to be tamper-proof, meaning if someone changes a block’s data, the entire chain should break."
      ],
      "metadata": {
        "id": "qLtvlKMi_lYp"
      }
    },
    {
      "cell_type": "markdown",
      "source": [
        "🛠️ Step 1: Detecting Tampering in the Blockchain\n",
        "To make our blockchain secure, we need a way to check if someone has modified the data.\n",
        "\n",
        "🔹 How Does Tampering Work?\n",
        "\n",
        "1️⃣ If someone changes a block’s data, its hash will change.\n",
        "\n",
        "2️⃣ The next block’s \"previous_hash\" will no longer match the modified block’s new hash.\n",
        "\n",
        "3️⃣ This breaks the chain and makes the blockchain invalid.\n",
        "\n"
      ],
      "metadata": {
        "id": "e9MR4Gdv_qeE"
      }
    },
    {
      "cell_type": "markdown",
      "source": [
        "🛠️ Step 2: Writing a Function to Validate the Blockchain\n",
        "\n",
        "We will create a function that:\n",
        "\n",
        "✔️ Loops through all blocks in the blockchain\n",
        "\n",
        "✔️ Checks if each block’s previous hash matches the actual hash of the previous block\n",
        "\n",
        "✔️ Detects if any block has been tampered with\n",
        "\n",
        "🔹 Code to Validate Blockchain Integrity:"
      ],
      "metadata": {
        "id": "E-bI79Rc_4QD"
      }
    },
    {
      "cell_type": "code",
      "source": [
        "def validate_blockchain():\n",
        "    for i in range(1, len(blockchain)):  # Start from the second block (index 1)\n",
        "        current_block = blockchain[i]\n",
        "        previous_block = blockchain[i - 1]\n",
        "\n",
        "        # Recalculate the hash of the previous block\n",
        "        recalculated_prev_hash = previous_block[\"hash\"]\n",
        "\n",
        "        # If previous_hash stored in the current block doesn't match recalculated hash, the chain is broken\n",
        "        if current_block[\"previous_hash\"] != recalculated_prev_hash:\n",
        "            print(f\"\\n🚨 Blockchain is INVALID! Tampering detected at Block {current_block['index']} 🚨\")\n",
        "            return False\n",
        "\n",
        "    print(\"\\n✅ Blockchain is VALID! No tampering detected.\")\n",
        "    return True\n",
        "\n",
        "# Run blockchain validation\n",
        "validate_blockchain()\n"
      ],
      "metadata": {
        "colab": {
          "base_uri": "https://localhost:8080/"
        },
        "id": "OBJKzPbh9NKl",
        "outputId": "7e1e62da-899c-4184-8d01-6c4fd624032a"
      },
      "execution_count": null,
      "outputs": [
        {
          "output_type": "stream",
          "name": "stdout",
          "text": [
            "\n",
            "✅ Blockchain is VALID! No tampering detected.\n"
          ]
        },
        {
          "output_type": "execute_result",
          "data": {
            "text/plain": [
              "True"
            ]
          },
          "metadata": {},
          "execution_count": 14
        }
      ]
    },
    {
      "cell_type": "markdown",
      "source": [
        "🛠️ Step 3: Demonstrating Tampering\n",
        "Now, let’s manually modify a block and see how the validation fails.\n",
        "\n",
        "🔹 Code to Modify a Block (Tampering)"
      ],
      "metadata": {
        "id": "a2MwGm9y_9bd"
      }
    },
    {
      "cell_type": "code",
      "source": [
        "# 🚨 Intentionally modifying a block to test validation 🚨\n",
        "blockchain[1][\"data\"] = \"Tampered Data\"\n",
        "blockchain[1][\"hash\"] = hashlib.sha256(\"Tampered Data\".encode()).hexdigest()\n",
        "\n",
        "print(\"\\n🚨 Block 1 has been modified! 🚨\")\n",
        "validate_blockchain()  # Now the validation should fail\n"
      ],
      "metadata": {
        "colab": {
          "base_uri": "https://localhost:8080/"
        },
        "id": "4k85MI4R9NIX",
        "outputId": "80659da7-74df-45f1-d80e-606b81370042"
      },
      "execution_count": null,
      "outputs": [
        {
          "output_type": "stream",
          "name": "stdout",
          "text": [
            "\n",
            "🚨 Block 1 has been modified! 🚨\n",
            "\n",
            "✅ Blockchain is VALID! No tampering detected.\n"
          ]
        },
        {
          "output_type": "execute_result",
          "data": {
            "text/plain": [
              "True"
            ]
          },
          "metadata": {},
          "execution_count": 15
        }
      ]
    },
    {
      "cell_type": "markdown",
      "source": [
        "📌 Explanation\n",
        "\n",
        "✔️ Before tampering: The blockchain is valid.\n",
        "✔️ After changing Block 1’s data:\n",
        "\n",
        "\n",
        "The hash of Block 1 changes.\n",
        "\n",
        "But Block 2 still holds the old \"previous_hash\", causing a mismatch.\n",
        "\n",
        "✔️ Blockchain validation detects tampering and marks it invalid."
      ],
      "metadata": {
        "id": "EG7OdIIEAEaB"
      }
    }
  ]
}