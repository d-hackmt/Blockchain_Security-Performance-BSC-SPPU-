{
  "nbformat": 4,
  "nbformat_minor": 0,
  "metadata": {
    "colab": {
      "provenance": [],
      "collapsed_sections": [
        "V7FHO8U_Z31m",
        "ajjOFSwzaOgR",
        "jJ6bOScTcF_L",
        "ERHuULDT9w8j",
        "WNyEcWgsd5Yb",
        "P4hmVG88qCIC",
        "2eN8JDdj9ABO",
        "SUOC_2dR-IDD",
        "qt3ia1V9-CkA",
        "rtfRLA3k-xxw",
        "Ho3a3mQN_POi",
        "qLtvlKMi_lYp",
        "c-KokOKqqQvJ",
        "afkHx_IcHskW",
        "TCXnx7tsIBvl",
        "XNnNs1EpIa6S",
        "Uivun3VLI6rJ",
        "MWJSPeKVJr0y",
        "8U_8LIemqXAU",
        "QbRK0N8OqZEN",
        "nhBY0IRCqa6d",
        "8ucAKgpvqgPx",
        "J5HZB8nWqhyK"
      ]
    },
    "kernelspec": {
      "name": "python3",
      "display_name": "Python 3"
    },
    "language_info": {
      "name": "python"
    }
  },
  "cells": [
    {
      "cell_type": "markdown",
      "source": [
        "# **📜 LAB 4** -  Proof of Work (Mining a Block) 🚀"
      ],
      "metadata": {
        "id": "c-KokOKqqQvJ"
      }
    },
    {
      "cell_type": "markdown",
      "source": [
        "🔍 Objective:\n",
        "\n",
        "In this lab, we will implement a Proof of Work (PoW) mechanism to make adding blocks more secure and computationally expensive. This simulates how Bitcoin miners solve cryptographic puzzles before adding new blocks.\n",
        "\n"
      ],
      "metadata": {
        "id": "WCYEJ_XSAvke"
      }
    },
    {
      "cell_type": "markdown",
      "source": [
        "🔥 By the end of this lab, you’ll understand how Proof of Work ensures blockchain security and why Bitcoin mining requires so much computational power! 🚀"
      ],
      "metadata": {
        "id": "vxY79ltEAzpm"
      }
    },
    {
      "cell_type": "markdown",
      "source": [
        "## 1️⃣ Understanding Proof of Work (PoW) 🛠️"
      ],
      "metadata": {
        "id": "afkHx_IcHskW"
      }
    },
    {
      "cell_type": "markdown",
      "source": [
        "Why is Proof of Work needed? 🤔\n",
        "Imagine you are in a classroom where students can write their names on a list to claim a prize. What if someone cheats by writing their name multiple times? We need a rule to make adding names difficult so that only those who truly deserve the prize can enter their names.\n",
        "\n",
        "🔹 In blockchain, PoW makes adding new blocks difficult to prevent fraud and spam.\n",
        "\n",
        "🔹 Without PoW, anyone could easily change transaction history and manipulate the system."
      ],
      "metadata": {
        "id": "UTe-OV-LHuCQ"
      }
    },
    {
      "cell_type": "markdown",
      "source": [
        "How does Proof of Work prevent fraud? 🚫🛑\n",
        "Let's see an example:\n",
        "\n",
        "💡 Suppose we allow adding new transactions without any difficulty. Someone could simply edit old transactions and replace them with fake ones. PoW ensures that adding blocks requires solving a puzzle so no one can easily tamper with past data.\n",
        "\n",
        "📌 Example: A simple blockchain without PoW (easy to cheat)"
      ],
      "metadata": {
        "id": "CycLzNWBHwvh"
      }
    },
    {
      "cell_type": "markdown",
      "source": [
        "🛑 Issue: Anyone can change a past block and re-run this program to generate new hashes!"
      ],
      "metadata": {
        "id": "jkNq_0L6H2Tv"
      }
    },
    {
      "cell_type": "code",
      "source": [
        "import hashlib\n",
        "import time\n",
        "\n",
        "# Fake blockchain (List of blocks)\n",
        "blockchain = []\n",
        "\n",
        "# Function to create a new block\n",
        "def create_block(data, previous_hash=\"\"):\n",
        "    block = {\n",
        "        \"data\": data,\n",
        "        \"timestamp\": time.time(),\n",
        "        \"previous_hash\": previous_hash,\n",
        "        \"hash\": hashlib.sha256((data + previous_hash).encode()).hexdigest()  # Easy hash\n",
        "    }\n",
        "    return block\n",
        "\n",
        "# Adding blocks (EASY to manipulate)\n",
        "blockchain.append(create_block(\"Transaction 1\"))\n",
        "blockchain.append(create_block(\"Transaction 2\", blockchain[-1][\"hash\"]))\n",
        "blockchain.append(create_block(\"Transaction 3\", blockchain[-1][\"hash\"]))\n",
        "\n",
        "# Display blockchain\n",
        "for block in blockchain:\n",
        "    print(block)\n"
      ],
      "metadata": {
        "colab": {
          "base_uri": "https://localhost:8080/"
        },
        "id": "YPV7NcvoqRbZ",
        "outputId": "d2f75d3e-3c39-4299-d02a-d7d370335810"
      },
      "execution_count": null,
      "outputs": [
        {
          "output_type": "stream",
          "name": "stdout",
          "text": [
            "{'data': 'Transaction 1', 'timestamp': 1740822754.1925032, 'previous_hash': '', 'hash': 'dff3b30655dc240deca00ed22fae68fdf8cf465bbe99bb2b2e24259cc1daac3a'}\n",
            "{'data': 'Transaction 2', 'timestamp': 1740822754.1926167, 'previous_hash': 'dff3b30655dc240deca00ed22fae68fdf8cf465bbe99bb2b2e24259cc1daac3a', 'hash': '6552affdd08bdab9e4d071a00269fd40e4c9212f3e7cd8307d413c5aaee3ce98'}\n",
            "{'data': 'Transaction 3', 'timestamp': 1740822754.1926785, 'previous_hash': '6552affdd08bdab9e4d071a00269fd40e4c9212f3e7cd8307d413c5aaee3ce98', 'hash': '44e24671d85972c049efbc619bad42623b383557bc18c96e01668fe7b6707ac7'}\n"
          ]
        }
      ]
    },
    {
      "cell_type": "markdown",
      "source": [
        "What is a Nonce? 🔢\n",
        "🔹 A Nonce is a random number that miners change to find a valid block hash.\n",
        "🔹 The goal is to find a hash that meets a specific difficulty condition (e.g., starts with '0000').\n",
        "\n",
        "💡 Example: Let's generate a hash with different nonce values"
      ],
      "metadata": {
        "id": "-jb1WS9XH3rI"
      }
    },
    {
      "cell_type": "markdown",
      "source": [
        "⛏️ Mining involves changing the nonce until a valid hash is found!"
      ],
      "metadata": {
        "id": "LnJhjET-H8Ly"
      }
    },
    {
      "cell_type": "code",
      "source": [
        "nonce = 0\n",
        "data = \"Transaction Data\"\n",
        "previous_hash = \"abc123\"\n",
        "\n",
        "while True:\n",
        "    text_to_hash = data + previous_hash + str(nonce)\n",
        "    new_hash = hashlib.sha256(text_to_hash.encode()).hexdigest()\n",
        "\n",
        "    if new_hash[:4] == \"0000\":  # Condition to simulate difficulty\n",
        "        print(f\"Valid Hash Found! 🎉 Nonce: {nonce}, Hash: {new_hash}\")\n",
        "        break\n",
        "    else:\n",
        "        nonce += 1  # Keep trying until we find a valid hash\n"
      ],
      "metadata": {
        "colab": {
          "base_uri": "https://localhost:8080/"
        },
        "id": "5JkOdeziAueV",
        "outputId": "891d9678-2748-4735-ebd2-058bd847f6bf"
      },
      "execution_count": null,
      "outputs": [
        {
          "output_type": "stream",
          "name": "stdout",
          "text": [
            "Valid Hash Found! 🎉 Nonce: 261984, Hash: 00008188c9855ade38369abdcfb4fedd3857b5d33208256f3b41e4e12e85d3b8\n"
          ]
        }
      ]
    },
    {
      "cell_type": "markdown",
      "source": [
        "![image.png](data:image/png;base64,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)"
      ],
      "metadata": {
        "id": "heDyOaPFH_qM"
      }
    },
    {
      "cell_type": "markdown",
      "source": [
        "## 2️⃣ Introducing the Nonce 🔢"
      ],
      "metadata": {
        "id": "TCXnx7tsIBvl"
      }
    },
    {
      "cell_type": "markdown",
      "source": [
        "Now that we understand why Proof of Work (PoW) is important, let's see how we can add a Nonce to our block structure and how it helps in mining.\n",
        "\n"
      ],
      "metadata": {
        "id": "8FYHfuLDIDbG"
      }
    },
    {
      "cell_type": "markdown",
      "source": [
        "Step 1: Creating a Simple Block Without a Nonce\n",
        "\n",
        "🔹 A block is just a dictionary storing transaction data, timestamp, previous block hash, and its own hash.\n",
        "\n",
        "🔹 Let's first create a simple block structure without a Nonce.\n",
        "\n",
        "📌 Basic Block Example (Without Nonce)"
      ],
      "metadata": {
        "id": "zhMQfHdwIEim"
      }
    },
    {
      "cell_type": "markdown",
      "source": [
        "🔹 Issue? The hash is generated instantly without any difficulty. This makes it easy to fake data!"
      ],
      "metadata": {
        "id": "GZE7mAMgIKmi"
      }
    },
    {
      "cell_type": "code",
      "source": [
        "import hashlib\n",
        "import time\n",
        "\n",
        "def create_block(data, previous_hash=\"\"):\n",
        "    block = {\n",
        "        \"data\": data,\n",
        "        \"timestamp\": time.time(),\n",
        "        \"previous_hash\": previous_hash\n",
        "    }\n",
        "    # Generating a hash without nonce\n",
        "    block_string = str(block[\"data\"]) + str(block[\"timestamp\"]) + block[\"previous_hash\"]\n",
        "    block[\"hash\"] = hashlib.sha256(block_string.encode()).hexdigest()\n",
        "    return block\n",
        "\n",
        "# Creating a block\n",
        "block = create_block(\"Transaction 1\")\n",
        "print(block)\n"
      ],
      "metadata": {
        "colab": {
          "base_uri": "https://localhost:8080/"
        },
        "id": "f-GOy-E3AucF",
        "outputId": "94aab9b1-7f94-4ab1-a95a-b9e798f893d6"
      },
      "execution_count": null,
      "outputs": [
        {
          "output_type": "stream",
          "name": "stdout",
          "text": [
            "{'data': 'Transaction 1', 'timestamp': 1740822834.760155, 'previous_hash': '', 'hash': '453adcc1c20c6bd7ffa6c9dab2171e63310c0d8256c32b7d5020c0c64378d51e'}\n"
          ]
        }
      ]
    },
    {
      "cell_type": "markdown",
      "source": [
        "Step 2: Adding a Nonce to Our Block 🔢\n",
        "\n",
        "Now, let’s introduce a Nonce (a number that we keep changing) to find a valid hash that starts with \"0000\".\n",
        "\n",
        "📌 Updated Block with Nonce"
      ],
      "metadata": {
        "id": "5gRtGsceIL7S"
      }
    },
    {
      "cell_type": "code",
      "source": [
        "import hashlib\n",
        "import time\n",
        "\n",
        "def create_block_with_nonce(data, previous_hash=\"\"):\n",
        "    nonce = 0  # Start with 0\n",
        "    while True:\n",
        "        block = {\n",
        "            \"data\": data,\n",
        "            \"timestamp\": time.time(),\n",
        "            \"previous_hash\": previous_hash,\n",
        "            \"nonce\": nonce  # Nonce added!\n",
        "        }\n",
        "        # Create a hash including the nonce\n",
        "        block_string = str(block[\"data\"]) + str(block[\"timestamp\"]) + block[\"previous_hash\"] + str(block[\"nonce\"])\n",
        "        block[\"hash\"] = hashlib.sha256(block_string.encode()).hexdigest()\n",
        "\n",
        "        # Mining Condition: Hash must start with '0000'\n",
        "        if block[\"hash\"][:4] == \"0000\":\n",
        "            return block  # Stop when a valid hash is found\n",
        "        else:\n",
        "            nonce += 1  # Keep trying different nonce values\n",
        "\n",
        "# Creating a mined block\n",
        "block = create_block_with_nonce(\"Transaction 1\")\n",
        "print(block)\n"
      ],
      "metadata": {
        "colab": {
          "base_uri": "https://localhost:8080/"
        },
        "id": "5iSomz-bAuYn",
        "outputId": "4f1fa34f-e3db-44dd-d6c5-ebe708e9f079"
      },
      "execution_count": null,
      "outputs": [
        {
          "output_type": "stream",
          "name": "stdout",
          "text": [
            "{'data': 'Transaction 1', 'timestamp': 1740822863.2368762, 'previous_hash': '', 'nonce': 242643, 'hash': '000035e115321aeea3ec23a5ce05ad0f1c68807360c8a6b2dfe4c2f5b611b237'}\n"
          ]
        }
      ]
    },
    {
      "cell_type": "markdown",
      "source": [
        "Step 3: Understanding How Nonce Affects Hashes\n",
        "\n",
        "🔹 The Nonce is randomly changed until we get a valid hash that follows a difficulty condition.\n",
        "\n",
        "🔹 This process is called mining.\n",
        "\n",
        "📌 Example: See how changing Nonce affects the hash"
      ],
      "metadata": {
        "id": "g7--2KsTIP-M"
      }
    },
    {
      "cell_type": "markdown",
      "source": [
        "⛏️ Notice how the hash completely changes with every new Nonce value? This is why mining takes time!"
      ],
      "metadata": {
        "id": "uK3rJFGhIUb-"
      }
    },
    {
      "cell_type": "code",
      "source": [
        "import hashlib\n",
        "\n",
        "data = \"Transaction 1\"\n",
        "previous_hash = \"abc123\"\n",
        "\n",
        "for nonce in range(5):  # Trying 5 different nonces\n",
        "    block_string = data + previous_hash + str(nonce)\n",
        "    new_hash = hashlib.sha256(block_string.encode()).hexdigest()\n",
        "    print(f\"Nonce: {nonce}, Hash: {new_hash}\")\n"
      ],
      "metadata": {
        "colab": {
          "base_uri": "https://localhost:8080/"
        },
        "id": "xGSwPRuGAuWG",
        "outputId": "3fccb247-9d96-498c-ffed-5c4d3d3cc542"
      },
      "execution_count": null,
      "outputs": [
        {
          "output_type": "stream",
          "name": "stdout",
          "text": [
            "Nonce: 0, Hash: 7b47a534f7e50d0bfdbf3345d2845a606a342cf9a8fe714dc7c38b6b5cc2cd9d\n",
            "Nonce: 1, Hash: 63ead813202e2e8e6d14a2dbe712fc0da6074951a81dea344dbc1656f3577196\n",
            "Nonce: 2, Hash: 3019802470f48a85d0a90dd7245170ad04a1226428f966abbd52ca6ded113bd9\n",
            "Nonce: 3, Hash: c83a9c688baed34d206e709ba979666572c06cb3197f723665dafe6533b05405\n",
            "Nonce: 4, Hash: a0e390faeb36fa652e28daf30f21841ac4e945269fb940e7441026bdf2ea5f70\n"
          ]
        }
      ]
    },
    {
      "cell_type": "markdown",
      "source": [
        "🔚 Summary:\n",
        "\n",
        "✅ We added a Nonce to our block structure\n",
        "\n",
        "✅ The Nonce is adjusted until we find a valid hash\n",
        "\n",
        "✅ This prevents fraud and makes blockchain secure\n",
        "\n",
        "🚀 Next Step: Let's mine a real blockchain with multiple blocks!"
      ],
      "metadata": {
        "id": "QjXWF0uOIWyR"
      }
    },
    {
      "cell_type": "markdown",
      "source": [
        "## 3️⃣ Implementing Proof of Work 🛠️"
      ],
      "metadata": {
        "id": "XNnNs1EpIa6S"
      }
    },
    {
      "cell_type": "markdown",
      "source": [
        "Now that we understand how a Nonce affects the hash, let's actually mine a block by implementing Proof of Work (PoW).\n",
        "\n",
        "PoW requires us to find a valid hash that meets a certain condition. This is what miners do in real blockchain systems like Bitcoin!\n",
        "\n"
      ],
      "metadata": {
        "id": "wpkRSpMwIcsj"
      }
    },
    {
      "cell_type": "markdown",
      "source": [
        "Step 1: Writing a Function to Find a Valid Hash\n",
        "\n",
        "📌 Goal: We will try different Nonce values until we find a hash that starts with \"0000\".\n",
        "\n",
        "🔹 Let's start with mining a single block."
      ],
      "metadata": {
        "id": "i0gcowyCIeok"
      }
    },
    {
      "cell_type": "code",
      "source": [
        "import hashlib\n",
        "import time\n",
        "\n",
        "def mine_block(data, previous_hash, difficulty=4):\n",
        "    nonce = 0  # Start with 0\n",
        "    prefix = \"0\" * difficulty  # Create a string like \"0000\" for difficulty\n",
        "\n",
        "    while True:\n",
        "        block = {\n",
        "            \"data\": data,\n",
        "            \"timestamp\": time.time(),\n",
        "            \"previous_hash\": previous_hash,\n",
        "            \"nonce\": nonce\n",
        "        }\n",
        "        block_string = str(block[\"data\"]) + str(block[\"timestamp\"]) + block[\"previous_hash\"] + str(block[\"nonce\"])\n",
        "        block[\"hash\"] = hashlib.sha256(block_string.encode()).hexdigest()\n",
        "\n",
        "        # Mining Condition: Hash must start with \"0000\"\n",
        "        if block[\"hash\"].startswith(prefix):\n",
        "            return block  # Valid block found! Stop mining.\n",
        "        else:\n",
        "            nonce += 1  # Keep trying different nonce values\n",
        "\n",
        "# Test mining\n",
        "mined_block = mine_block(\"Transaction 1\", \"abc123\")\n",
        "print(mined_block)\n"
      ],
      "metadata": {
        "colab": {
          "base_uri": "https://localhost:8080/"
        },
        "id": "VUIudwR6AuSd",
        "outputId": "1d7a479d-8ea3-44a7-d494-6957c6e68b22"
      },
      "execution_count": null,
      "outputs": [
        {
          "output_type": "stream",
          "name": "stdout",
          "text": [
            "{'data': 'Transaction 1', 'timestamp': 1740822942.1828682, 'previous_hash': 'abc123', 'nonce': 112822, 'hash': '0000df4d082f19fd5b12720aba4079d3b278908055b035e4b04a9f6bf57fa3c7'}\n"
          ]
        }
      ]
    },
    {
      "cell_type": "markdown",
      "source": [
        "✅ What’s Happening?\n",
        "\n",
        "We start with nonce = 0 and keep changing it.\n",
        "\n",
        "We generate a new hash each time.\n",
        "\n",
        "If the hash starts with \"0000\", we stop mining.\n",
        "\n",
        "Otherwise, we increase nonce and try again.\n"
      ],
      "metadata": {
        "id": "Orfv1cJMIkJm"
      }
    },
    {
      "cell_type": "markdown",
      "source": [
        "Step 2: Setting Up a Difficulty Level\n",
        "\n",
        "🔹 The difficulty is the number of leading zeros required in the hash (e.g., \"0000\" for difficulty = 4).\n",
        "\n",
        "📌 Let’s experiment with different difficulty levels:"
      ],
      "metadata": {
        "id": "7Z2BzC4-Inag"
      }
    },
    {
      "cell_type": "code",
      "source": [
        "difficulty_levels = [2, 3, 4, 5]  # Different levels\n",
        "\n",
        "for diff in difficulty_levels:\n",
        "    start_time = time.time()\n",
        "    mined_block = mine_block(\"Transaction 2\", \"xyz789\", difficulty=diff)\n",
        "    end_time = time.time()\n",
        "\n",
        "    print(f\"\\n🔹 Difficulty: {diff}\")\n",
        "    print(f\"Nonce: {mined_block['nonce']}\")\n",
        "    print(f\"Hash: {mined_block['hash']}\")\n",
        "    print(f\"⏳ Mining Time: {end_time - start_time:.4f} seconds\")\n"
      ],
      "metadata": {
        "colab": {
          "base_uri": "https://localhost:8080/"
        },
        "id": "86IILAgdIZJ_",
        "outputId": "e1c95940-dba2-4f70-d603-b1d77da665c4"
      },
      "execution_count": null,
      "outputs": [
        {
          "output_type": "stream",
          "name": "stdout",
          "text": [
            "\n",
            "🔹 Difficulty: 2\n",
            "Nonce: 6\n",
            "Hash: 00b476ccda7269df35271ac30ee15344b848b5dde42967552cc63d9ed3789e20\n",
            "⏳ Mining Time: 0.0000 seconds\n",
            "\n",
            "🔹 Difficulty: 3\n",
            "Nonce: 11260\n",
            "Hash: 00096d798dc380c4e2b76ba5bf918f289ca9bdac3d5c4e6de2c79ea9827e9151\n",
            "⏳ Mining Time: 0.0306 seconds\n",
            "\n",
            "🔹 Difficulty: 4\n",
            "Nonce: 31947\n",
            "Hash: 0000d19d49f8002ced80f99d88798b24e524570f9efad987e656eacb38fa2801\n",
            "⏳ Mining Time: 0.0756 seconds\n",
            "\n",
            "🔹 Difficulty: 5\n",
            "Nonce: 675919\n",
            "Hash: 00000fc6c8b66eef6c2627d93a0eec3499037510a0f9fe4066a58db1ca067858\n",
            "⏳ Mining Time: 1.6722 seconds\n"
          ]
        }
      ]
    },
    {
      "cell_type": "markdown",
      "source": [
        "✅ What’s Happening?\n",
        "\n",
        "As we increase the difficulty, mining takes longer ⏳.\n",
        "\n",
        "This is because finding a hash with more leading zeros is harder.\n",
        "\n",
        "📌 Real-world Example:\n",
        "\n",
        "Bitcoin has a difficulty level of around 19–20 leading zeros! That’s why it takes powerful computers to mine a Bitcoin block!"
      ],
      "metadata": {
        "id": "3QoP2ljrIrsi"
      }
    },
    {
      "cell_type": "markdown",
      "source": [
        "Step 3: Simulating Mining Time ⏳\n",
        "Let’s visualize how mining time increases with higher difficulty.\n",
        "\n",
        "🔹 We will mine 5 blocks at difficulty = 4 and measure the time taken."
      ],
      "metadata": {
        "id": "AvNyLYMBIuIM"
      }
    },
    {
      "cell_type": "code",
      "source": [
        "import matplotlib.pyplot as plt\n",
        "\n",
        "times = []\n",
        "for i in range(5):\n",
        "    start_time = time.time()\n",
        "    mine_block(f\"Transaction {i}\", \"xyz789\", difficulty=4)\n",
        "    end_time = time.time()\n",
        "\n",
        "    mining_time = end_time - start_time\n",
        "    times.append(mining_time)\n",
        "    print(f\"Block {i+1} mined in {mining_time:.4f} seconds.\")\n",
        "\n",
        "# Plot mining times\n",
        "plt.plot(range(1, 6), times, marker=\"o\", linestyle=\"-\")\n",
        "plt.xlabel(\"Block Number\")\n",
        "plt.ylabel(\"Mining Time (seconds)\")\n",
        "plt.title(\"Mining Time per Block at Difficulty 4\")\n",
        "plt.show()\n"
      ],
      "metadata": {
        "colab": {
          "base_uri": "https://localhost:8080/",
          "height": 563
        },
        "id": "S1ZSFh0rIZHp",
        "outputId": "33cf91c5-3e14-4de4-ce5d-89ea9357d0b0"
      },
      "execution_count": null,
      "outputs": [
        {
          "output_type": "stream",
          "name": "stdout",
          "text": [
            "Block 1 mined in 0.2002 seconds.\n",
            "Block 2 mined in 0.0903 seconds.\n",
            "Block 3 mined in 0.8489 seconds.\n",
            "Block 4 mined in 0.0631 seconds.\n",
            "Block 5 mined in 0.3787 seconds.\n"
          ]
        },
        {
          "output_type": "display_data",
          "data": {
            "text/plain": [
              "<Figure size 640x480 with 1 Axes>"
            ],
            "image/png": "[encoded data removed]"
          },
          "metadata": {}
        }
      ]
    },
    {
      "cell_type": "markdown",
      "source": [
        "✅ Observations:\n",
        "\n",
        "Mining time varies even at the same difficulty because hashing is random.\n",
        "Higher difficulty = more time to mine.\n"
      ],
      "metadata": {
        "id": "H9KqerYYI5XZ"
      }
    },
    {
      "cell_type": "markdown",
      "source": [
        "## 4️⃣ Adjusting Difficulty & Observing Mining Time ⏳"
      ],
      "metadata": {
        "id": "Uivun3VLI6rJ"
      }
    },
    {
      "cell_type": "markdown",
      "source": [
        "Now that we’ve implemented Proof of Work (PoW), let’s see what happens when we increase the difficulty.\n",
        "\n",
        "🔹 Step 1: What Happens When We Increase Difficulty?\n",
        "\n",
        "📌 Difficulty controls how hard mining is.\n",
        "\n",
        "The more leading zeros required in the hash, the longer it takes to mine a block.\n",
        "\n",
        "In real blockchain networks like Bitcoin, difficulty adjusts automatically to ensure blocks are mined at a stable rate.\n"
      ],
      "metadata": {
        "id": "G18phc6GI9EC"
      }
    },
    {
      "cell_type": "markdown",
      "source": [
        "🔹 Step 2: Experimenting with Different Difficulty Levels\n",
        "\n",
        "Now, let’s try mining a block at different difficulty levels and measure the mining time."
      ],
      "metadata": {
        "id": "zJfcBgKdI_R8"
      }
    },
    {
      "cell_type": "code",
      "source": [
        "import hashlib\n",
        "import time\n",
        "\n",
        "def mine_block(data, previous_hash, difficulty):\n",
        "    nonce = 0\n",
        "    prefix = \"0\" * difficulty\n",
        "\n",
        "    while True:\n",
        "        block = {\n",
        "            \"data\": data,\n",
        "            \"timestamp\": time.time(),\n",
        "            \"previous_hash\": previous_hash,\n",
        "            \"nonce\": nonce\n",
        "        }\n",
        "        block_string = str(block[\"data\"]) + str(block[\"timestamp\"]) + block[\"previous_hash\"] + str(block[\"nonce\"])\n",
        "        block[\"hash\"] = hashlib.sha256(block_string.encode()).hexdigest()\n",
        "\n",
        "        if block[\"hash\"].startswith(prefix):\n",
        "            return block, nonce  # Return the block and the nonce value\n",
        "        else:\n",
        "            nonce += 1\n",
        "\n",
        "# Try different difficulty levels\n",
        "difficulty_levels = [2, 3, 4, 5]\n",
        "\n",
        "for difficulty in difficulty_levels:\n",
        "    start_time = time.time()\n",
        "    mined_block, final_nonce = mine_block(\"Transaction Data\", \"abc123\", difficulty)\n",
        "    end_time = time.time()\n",
        "\n",
        "    print(f\"\\n🔹 Difficulty: {difficulty}\")\n",
        "    print(f\"Nonce found: {final_nonce}\")\n",
        "    print(f\"Valid Hash: {mined_block['hash']}\")\n",
        "    print(f\"⏳ Mining Time: {end_time - start_time:.4f} seconds\")\n"
      ],
      "metadata": {
        "colab": {
          "base_uri": "https://localhost:8080/"
        },
        "id": "IVYp3AhIIZDz",
        "outputId": "5960526d-b85b-4baf-f285-3437b983afb3"
      },
      "execution_count": null,
      "outputs": [
        {
          "output_type": "stream",
          "name": "stdout",
          "text": [
            "\n",
            "🔹 Difficulty: 2\n",
            "Nonce found: 218\n",
            "Valid Hash: 00521f54d14d44fe6f8633714e3479069c21a253bc5d91810a79e382c5948039\n",
            "⏳ Mining Time: 0.0017 seconds\n",
            "\n",
            "🔹 Difficulty: 3\n",
            "Nonce found: 2723\n",
            "Valid Hash: 000733c06020c038dc93059a3ca9297dce4fbffb943d64c34471a3095758ff53\n",
            "⏳ Mining Time: 0.0136 seconds\n",
            "\n",
            "🔹 Difficulty: 4\n",
            "Nonce found: 52724\n",
            "Valid Hash: 0000d400794040c7bc7e0a8962df8d849c82cb954b513db9e1bbe72fd0eacff2\n",
            "⏳ Mining Time: 0.2445 seconds\n",
            "\n",
            "🔹 Difficulty: 5\n",
            "Nonce found: 31919\n",
            "Valid Hash: 000005c572d1587211bc15c087d19c98546fb577da84681203d3fdf69902f894\n",
            "⏳ Mining Time: 0.1524 seconds\n"
          ]
        }
      ]
    },
    {
      "cell_type": "markdown",
      "source": [
        "✅ What’s Happening?\n",
        "\n",
        "We try different difficulty levels (2, 3, 4, 5).\n",
        "Mining time increases as difficulty increases.\n",
        "\n",
        "We print the nonce, the valid hash, and the time taken to mine the block.\n"
      ],
      "metadata": {
        "id": "JNnPbpl2JEFm"
      }
    },
    {
      "cell_type": "markdown",
      "source": [
        "🔹 Step 3: Comparing Mining Speeds 📈\n",
        "\n",
        "Now, let’s visualize how mining time changes with difficulty.\n",
        "\n"
      ],
      "metadata": {
        "id": "4Ngn55uRJFaH"
      }
    },
    {
      "cell_type": "code",
      "source": [
        "import matplotlib.pyplot as plt\n",
        "\n",
        "difficulties = [2, 3, 4, 5]\n",
        "times = []\n",
        "\n",
        "for diff in difficulties:\n",
        "    start_time = time.time()\n",
        "    mine_block(\"Experiment Block\", \"xyz789\", diff)\n",
        "    end_time = time.time()\n",
        "\n",
        "    mining_time = end_time - start_time\n",
        "    times.append(mining_time)\n",
        "    print(f\"⛏️ Difficulty {diff}: Mined in {mining_time:.4f} seconds.\")\n",
        "\n",
        "# Plotting the results\n",
        "plt.plot(difficulties, times, marker=\"o\", linestyle=\"-\", color=\"blue\")\n",
        "plt.xlabel(\"Difficulty Level\")\n",
        "plt.ylabel(\"Mining Time (seconds)\")\n",
        "plt.title(\"Mining Time vs Difficulty\")\n",
        "plt.show()\n"
      ],
      "metadata": {
        "colab": {
          "base_uri": "https://localhost:8080/",
          "height": 545
        },
        "id": "CiZmA4uFIZBZ",
        "outputId": "a2a728b7-7ad3-4e60-83b4-6a7d4beb757f"
      },
      "execution_count": null,
      "outputs": [
        {
          "output_type": "stream",
          "name": "stdout",
          "text": [
            "⛏️ Difficulty 2: Mined in 0.0005 seconds.\n",
            "⛏️ Difficulty 3: Mined in 0.0073 seconds.\n",
            "⛏️ Difficulty 4: Mined in 0.4257 seconds.\n",
            "⛏️ Difficulty 5: Mined in 1.6802 seconds.\n"
          ]
        },
        {
          "output_type": "display_data",
          "data": {
            "text/plain": [
              "<Figure size 640x480 with 1 Axes>"
            ],
            "image/png": "[encoded data removed]"
          },
          "metadata": {}
        }
      ]
    },
    {
      "cell_type": "markdown",
      "source": [
        "✅ Observations:\n",
        "\n",
        "Low difficulty (2 or 3) → Blocks are mined quickly.\n",
        "\n",
        "Higher difficulty (5 or 6) → Mining takes much longer.\n",
        "\n",
        "The graph shows mining time increases with difficulty."
      ],
      "metadata": {
        "id": "qEAZnt0XJMdN"
      }
    },
    {
      "cell_type": "markdown",
      "source": [
        "## 5️⃣ Simulating Mining Like Bitcoin Miners ⛏️"
      ],
      "metadata": {
        "id": "kVXnWvMbJPaO"
      }
    },
    {
      "cell_type": "markdown",
      "source": [
        "Now, let’s explore how different miners (computers) perform when mining blocks.\n",
        "\n",
        "🔹 Step 1: Trying Out Different Miners (Faster vs Slower Computers)\n",
        "\n",
        "📌 In the real world, powerful computers (miners) solve the Proof-of-Work (PoW) problem faster.\n",
        "\n",
        "📌 Let’s simulate this by changing the speed of mining using different CPU power levels."
      ],
      "metadata": {
        "id": "A4i2YNYxJRzn"
      }
    },
    {
      "cell_type": "code",
      "source": [
        "import hashlib\n",
        "import time\n",
        "import random\n",
        "\n",
        "def mine_block(data, previous_hash, difficulty, mining_power):\n",
        "    nonce = 0\n",
        "    prefix = \"0\" * difficulty\n",
        "    start_time = time.time()\n",
        "\n",
        "    while True:\n",
        "        block_string = str(data) + str(time.time()) + previous_hash + str(nonce)\n",
        "        block_hash = hashlib.sha256(block_string.encode()).hexdigest()\n",
        "\n",
        "        if block_hash.startswith(prefix):\n",
        "            mining_time = time.time() - start_time\n",
        "            return block_hash, nonce, mining_time\n",
        "        else:\n",
        "            nonce += mining_power  # Faster miners try more nonces per second\n",
        "\n",
        "# Simulating different miners\n",
        "mining_powers = {\"Slow Miner\": 1, \"Average Miner\": 5, \"Fast Miner\": 20}\n",
        "\n",
        "for miner, power in mining_powers.items():\n",
        "    block_hash, nonce, mining_time = mine_block(\"Block Data\", \"prev123\", 4, power)\n",
        "\n",
        "    print(f\"\\n⚒️ {miner} (Power: {power} nonces per step)\")\n",
        "    print(f\"🔢 Nonce found: {nonce}\")\n",
        "    print(f\"🔗 Hash: {block_hash}\")\n",
        "    print(f\"⏳ Mining Time: {mining_time:.4f} seconds\")\n"
      ],
      "metadata": {
        "colab": {
          "base_uri": "https://localhost:8080/"
        },
        "id": "zPrFUSc1IY9c",
        "outputId": "d3e5d66d-1975-4f12-ca36-1cb88428878b"
      },
      "execution_count": null,
      "outputs": [
        {
          "output_type": "stream",
          "name": "stdout",
          "text": [
            "\n",
            "⚒️ Slow Miner (Power: 1 nonces per step)\n",
            "🔢 Nonce found: 103716\n",
            "🔗 Hash: 00000bbb3c9ae1341e25b145455bb2f34768f058f7b6995650e928cdab865517\n",
            "⏳ Mining Time: 0.2255 seconds\n",
            "\n",
            "⚒️ Average Miner (Power: 5 nonces per step)\n",
            "🔢 Nonce found: 64025\n",
            "🔗 Hash: 0000929d5fe875b0cbf6f15881e026611f2501d8a2eab84c798aa9fc3ed8580e\n",
            "⏳ Mining Time: 0.0274 seconds\n",
            "\n",
            "⚒️ Fast Miner (Power: 20 nonces per step)\n",
            "🔢 Nonce found: 862360\n",
            "🔗 Hash: 0000c83713cb2154be1d0916b779c50ac6d7ecf8ee57f82cae1606a7a6276fee\n",
            "⏳ Mining Time: 0.0962 seconds\n"
          ]
        }
      ]
    },
    {
      "cell_type": "markdown",
      "source": [
        "✅ What’s Happening?\n",
        "\n",
        "The Slow Miner checks 1 nonce at a time (slowest).\n",
        "\n",
        "The Average Miner jumps 5 nonces at a time (medium speed).\n",
        "\n",
        "The Fast Miner skips 20 nonces per step (fastest).\n",
        "\n",
        "The Fast Miner finds a valid block the quickest, just like in Bitcoin mining.\n"
      ],
      "metadata": {
        "id": "18jaz7jTJju4"
      }
    },
    {
      "cell_type": "markdown",
      "source": [
        "🔹 Step 2: How Real-World Miners Compete\n",
        "📌 In real-world mining:\n",
        "\n",
        "Thousands of miners compete to find a valid hash first ⏳.\n",
        "\n",
        "The miner who finds it first gets rewarded (e.g., Bitcoin).\n",
        "\n",
        "More mining power = better chance of winning.\n",
        "\n",
        "Let’s simulate multiple miners competing to mine a block."
      ],
      "metadata": {
        "id": "5WowJNwRJlwX"
      }
    },
    {
      "cell_type": "code",
      "source": [
        "def mining_race(difficulty):\n",
        "    miners = [\"Miner A\", \"Miner B\", \"Miner C\"]\n",
        "    times = {}\n",
        "\n",
        "    for miner in miners:\n",
        "        block_hash, nonce, mining_time = mine_block(\"Block Data\", \"prev456\", difficulty, random.randint(5, 20))\n",
        "        times[miner] = mining_time\n",
        "        print(f\"⛏️ {miner} mined a block in {mining_time:.4f} seconds.\")\n",
        "\n",
        "    winner = min(times, key=times.get)\n",
        "    print(f\"\\n🏆 {winner} won the mining race!\\n\")\n",
        "\n",
        "# Simulate a mining race\n",
        "mining_race(4)\n"
      ],
      "metadata": {
        "colab": {
          "base_uri": "https://localhost:8080/"
        },
        "id": "hdjd6Nn9IY7Q",
        "outputId": "82a22cbe-aab1-4c78-e7f2-cf8ac64cb23a"
      },
      "execution_count": null,
      "outputs": [
        {
          "output_type": "stream",
          "name": "stdout",
          "text": [
            "⛏️ Miner A mined a block in 0.0577 seconds.\n",
            "⛏️ Miner B mined a block in 0.0223 seconds.\n",
            "⛏️ Miner C mined a block in 0.0121 seconds.\n",
            "\n",
            "🏆 Miner C won the mining race!\n",
            "\n"
          ]
        }
      ]
    },
    {
      "cell_type": "markdown",
      "source": [
        "✅ What’s Happening?\n",
        "\n",
        "Three miners are competing.\n",
        "\n",
        "Each has a random mining power (simulating real-world competition).\n",
        "\n",
        "The fastest miner wins the block! 🏆"
      ],
      "metadata": {
        "id": "vCICDbPBJp-K"
      }
    },
    {
      "cell_type": "markdown",
      "source": [
        "## 6️⃣ Demonstrating a Successful Mine ✅"
      ],
      "metadata": {
        "id": "MWJSPeKVJr0y"
      }
    },
    {
      "cell_type": "markdown",
      "source": [
        "Now, let’s simulate the full mining process:\n",
        "\n",
        "Mine a new block ⛏️\n",
        "\n",
        "Add it to the blockchain 🔗\n",
        "\n",
        "Print the mined block and its hash 🖥️"
      ],
      "metadata": {
        "id": "_XkBFIvmJuJT"
      }
    },
    {
      "cell_type": "markdown",
      "source": [
        "🔹 Step 1: Mining a New Block\n",
        "\n",
        "📌 We’ll mine a block using our Proof-of-Work function."
      ],
      "metadata": {
        "id": "VN5RyXQWJwWt"
      }
    },
    {
      "cell_type": "code",
      "source": [
        "blockchain = []\n",
        "\n",
        "def create_block(data, previous_hash, difficulty):\n",
        "    block_hash, nonce, mining_time = mine_block(data, previous_hash, difficulty, 10)\n",
        "    block = {\n",
        "        \"data\": data,\n",
        "        \"previous_hash\": previous_hash,\n",
        "        \"nonce\": nonce,\n",
        "        \"hash\": block_hash,\n",
        "        \"timestamp\": time.time()\n",
        "    }\n",
        "    return block, mining_time\n",
        "\n",
        "# Mining a new block\n",
        "new_block, mining_time = create_block(\"Patient X - CT Scan\", \"genesis_block_hash\", 4)\n"
      ],
      "metadata": {
        "id": "a70MGyFVJtFl"
      },
      "execution_count": null,
      "outputs": []
    },
    {
      "cell_type": "markdown",
      "source": [
        "🔹 Step 2: Adding the Block to the Blockchain\n",
        "📌 Once mined, the block is stored in the blockchain."
      ],
      "metadata": {
        "id": "263rJpljJ0zH"
      }
    },
    {
      "cell_type": "code",
      "source": [
        "blockchain.append(new_block)\n",
        "\n",
        "print(\"\\n✅ New Block Added!\")\n",
        "print(f\"⛏️ Mined in {mining_time:.4f} seconds\")\n",
        "print(f\"🔗 Hash: {new_block['hash']}\")\n",
        "print(f\"📜 Previous Hash: {new_block['previous_hash']}\")\n"
      ],
      "metadata": {
        "colab": {
          "base_uri": "https://localhost:8080/"
        },
        "id": "REBZDMbmJtDj",
        "outputId": "048c62f1-c582-4ad6-f8bc-d325915e0b6f"
      },
      "execution_count": null,
      "outputs": [
        {
          "output_type": "stream",
          "name": "stdout",
          "text": [
            "\n",
            "✅ New Block Added!\n",
            "⛏️ Mined in 0.3990 seconds\n",
            "🔗 Hash: 0000cf6e20e886f0bc43ad3dcf1a4adbf6df97bdda0cdb5cfb6cc3210665a6d6\n",
            "📜 Previous Hash: genesis_block_hash\n"
          ]
        }
      ]
    },
    {
      "cell_type": "markdown",
      "source": [
        "🔹 Step 3: Printing the Full Blockchain\n",
        "\n",
        "📌 Let’s display our blockchain to see how blocks are linked."
      ],
      "metadata": {
        "id": "FxGdPiGVJ3dY"
      }
    },
    {
      "cell_type": "code",
      "source": [
        "print(\"\\n🔗 Current Blockchain:\")\n",
        "for block in blockchain:\n",
        "    print(f\"\\n📜 Data: {block['data']}\")\n",
        "    print(f\"⏳ Timestamp: {block['timestamp']}\")\n",
        "    print(f\"🔢 Nonce: {block['nonce']}\")\n",
        "    print(f\"🔗 Hash: {block['hash']}\")\n",
        "    print(f\"↩️ Previous Hash: {block['previous_hash']}\")\n"
      ],
      "metadata": {
        "colab": {
          "base_uri": "https://localhost:8080/"
        },
        "id": "yKl4AQR_JtBb",
        "outputId": "94ceb841-fa4b-445d-bace-54354f419b8a"
      },
      "execution_count": null,
      "outputs": [
        {
          "output_type": "stream",
          "name": "stdout",
          "text": [
            "\n",
            "🔗 Current Blockchain:\n",
            "\n",
            "📜 Data: Patient X - CT Scan\n",
            "⏳ Timestamp: 1740823274.183644\n",
            "🔢 Nonce: 1562870\n",
            "🔗 Hash: 0000cf6e20e886f0bc43ad3dcf1a4adbf6df97bdda0cdb5cfb6cc3210665a6d6\n",
            "↩️ Previous Hash: genesis_block_hash\n"
          ]
        }
      ]
    },
    {
      "cell_type": "markdown",
      "source": [
        "🔚 Summary:\n",
        "\n",
        "✅ Miners compete to mine blocks based on computing power.\n",
        "\n",
        "✅ Mining a block requires finding a valid nonce using PoW.\n",
        "\n",
        "✅ Once mined, the block is added to the blockchain securely.\n",
        "\n",
        "🚀 Next Step: Let’s implement blockchain validation to detect tampering! 🔒"
      ],
      "metadata": {
        "id": "yNef1G_jJ6Qq"
      }
    }
  ]
}